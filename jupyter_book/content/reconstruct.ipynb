{
  "nbformat": 4,
  "nbformat_minor": 0,
  "metadata": {
    "colab": {
      "name": "reconstruct.ipynb",
      "provenance": [],
      "collapsed_sections": [],
      "toc_visible": true
    },
    "kernelspec": {
      "name": "python3",
      "display_name": "Python 3"
    }
  },
  "cells": [
    {
      "cell_type": "markdown",
      "metadata": {
        "id": "WYzarEVGSXVv",
        "colab_type": "text"
      },
      "source": [
        "# Reconstruct\n",
        "\n",
        "![](http://reconstrue.com/projects/brightfield_neurons/allen_morphology_viz.png)\n"
      ]
    },
    {
      "cell_type": "markdown",
      "metadata": {
        "id": "u3GROeOvyDJw",
        "colab_type": "text"
      },
      "source": [
        "## Terminology\n",
        "\n",
        "### Reconstruction\n",
        "\"Reconstuction\" is the term of art for morphological analysis that reconstructs the structure of imaged neuron. The above image set illustrates the process.\n",
        "\n",
        "1. The MinIP is the input, the field is bright\n",
        "2. The MinIP inverted for contrast with the blue and red to come\n",
        "3. The reconstructed dendrites overlaid in blue\n",
        "5. The reconstructed axon overlaid in red\n",
        "\n",
        "### Skeleton\n",
        "\n",
        "The other relevant term of art is \"skeleton\" which is the commonly used term for the \"medial axis representation.\" \n",
        "\n",
        ">The MAT represents the shape of an object, in 2D or 3D, with balls contained inside it, and should be seen as the skeleton of an object. Given an object, it is an alternative representation that captures both the shape of the object and its topology (how its different parts are connected), and has therefore been used in numerous shape-related problems. [[*](https://3d.bk.tudelft.nl/projects/3dsm/)]\n",
        "\n",
        "![](https://3d.bk.tudelft.nl/projects/3dsm/img/2dskeleton.png)"
      ]
    },
    {
      "cell_type": "markdown",
      "metadata": {
        "id": "L7-D9sU9W7_S",
        "colab_type": "text"
      },
      "source": [
        "## Prior Art\n",
        "\n",
        "Starting in the middle of the previous decade, deep learning convolutional models have been applied to medical and life sciences images. There have been some impressive results. \n",
        "\n",
        "On the other hand, brightfield imaged neurons are proving to be difficult to reconstruct. Neurons have extremely complex strucuture of minute yet \"long\" neurites. Visible ligth is in the range of 400 to 700 nanometers, yet axons and synapses can be as thin as 50 nanometer. Microscopy optics limit the quality of the data at that resolution. Defraction of light around neurites degrades the image formation. \n",
        "\n",
        "Review papers can provide a quicke background\n",
        "- [A Pipeline for Neuron Reconstruction Based on Spatial Sliding Volume Filter Seeding](https://www.hindawi.com/journals/cmmm/2014/386974/), 2014\n",
        "\n",
        "To get a quick overview of recent achievements in similar fields, check out these videos:\n",
        "- 2017, [Deep Learning in Medical Imaging, Ben Glocker](https://www.youtube.com/watch?v=2_Jv11VpOF4) (22 minute video), quickly surveys work out of London College\n",
        "- 2018, [AI in Radiology at Stanford: Rise of the Machines](https://www.youtube.com/watch?v=Gigd1rkZTSE), (16 minutes)"
      ]
    },
    {
      "cell_type": "markdown",
      "metadata": {
        "id": "YQA-LpADce6e",
        "colab_type": "text"
      },
      "source": [
        "### Instance segmentation\n",
        "\n",
        "In brightfield microscopy, there is usually only a single stained neuron on a slide. Nonetheless, multiple neurons can be biocytin-stained in the same slice of brain. In such images there is usually little overlap. \n",
        "\n",
        "In the Cell Types Database, cell `323865917` seemingly has a second stained neuron in the background. Using the term of art, \"instance segmentation\" models are an appropriate architecture to try for situations where there can be multiple instances per image. So, it might be promising to grab some pre-trained instance segmentation model and see if transfer learn magic can produce a brightfield instance segmenter.\n",
        "\n",
        "<img src=\"http://api.brain-map.org/api/v2/section_image_download/396707805\" height=\"400px\" />\n",
        "\n",
        "There is reason to believe that such multi-stained images will be processable via the same algorithms that process single objects [[*](https://blog.tensorflow.org/2018/05/real-time-human-pose-estimation-in.html)]. For example consider the output of PoseNet which performs instance segmentation of humans. Note: PoseNet know how many joint (roughly 17) to expect in a skeleton of a human, while with neurons there are many joints so reconstruting a neuron skeleton is more difficult than a human skeleton.\n",
        "\n",
        "![](https://1.bp.blogspot.com/-iM-M6F-UfxY/XcCnjy4DFaI/AAAAAAAAAxo/q6XrUeXedrcM6k34_XXhKzlfl0jXLlWkgCLcBGAsYHQ/s320/2b.png)\n",
        "\n",
        "\n"
      ]
    },
    {
      "cell_type": "markdown",
      "metadata": {
        "id": "nG5_3AV_cQp8",
        "colab_type": "text"
      },
      "source": [
        "### Dense reconstruction\n",
        "\n",
        "\"Dense\" is the frozen-cube-of-spaghetti passed-through-a-deli-slicer model of electron microscopy (EM). EM imaging does not involve staining a single neuron (that's not dense) but rather needs to detect many neurons (the pile of spaghetti metaphor).\n",
        "\n",
        "<img src=\"https://i.redd.it/ecxw5g1kofo11.png\" width=\"50%\"/>([Source](https://www.reddit.com/r/neuroscience/comments/9iv3k2/working_on_a_graphic_to_show_3d_neuron/))\n",
        "\n",
        "Any \"dense\" topic is not fully relevant to the topic of brightfield imaging (by definition brightfield is very sparse, only a single neuron normally) but there is a lot of tech from EM and flourescent microscopy that may well be adaptable to a brightfield context, e.g. Flood-Filling Networks. "
      ]
    },
    {
      "cell_type": "markdown",
      "metadata": {
        "id": "ynPrg30w_KyQ",
        "colab_type": "text"
      },
      "source": [
        "## Mask based skeletonization\n",
        "\n",
        "A binary mask is a datum-by-datum (pixel or voxel) yes/no label. In a skeletonization context, the mask indicates if the corresponding datum in a member of the object to be skeletonized. After a segmentation mask is generated, some algorithm can turn the mask image into a skeleton. \n"
      ]
    },
    {
      "cell_type": "markdown",
      "metadata": {
        "id": "PyqlZK0dbGTU",
        "colab_type": "text"
      },
      "source": [
        "### 2D\n",
        "\n",
        "There are existing methods which can take 2D tracing and \"reverse-map\" that to 3D (e.g., [TreMAP](https://www.semanticscholar.org/paper/TReMAP%3A-Automatic-3D-Neuron-Reconstruction-Based-on-Zhou-Liu/c3f3e56b399646ef8738fcf24d39374b5548d470)).\n",
        "\n",
        "scikit-image has skeletonization algorithms. Here's their example code for a random synthetic input and the corresponding output:\n"
      ]
    },
    {
      "cell_type": "code",
      "metadata": {
        "id": "wpL49Ofm69Iu",
        "colab_type": "code",
        "outputId": "00d5f9c6-c6a1-4d2d-87f1-d89c07a2d5cf",
        "colab": {
          "base_uri": "https://localhost:8080/",
          "height": 317
        }
      },
      "source": [
        "# via https://scikit-image.org/docs/0.9.x/auto_examples/plot_medial_transform.html\n",
        "import numpy as np\n",
        "from scipy import ndimage\n",
        "from skimage.morphology import medial_axis\n",
        "import matplotlib.pyplot as plt\n",
        "\n",
        "\n",
        "def microstructure(l=256):\n",
        "    \"\"\"\n",
        "    Synthetic binary data: binary microstructure with blobs.\n",
        "\n",
        "    Parameters\n",
        "    ----------\n",
        "\n",
        "    l: int, optional\n",
        "        linear size of the returned image\n",
        "\n",
        "    \"\"\"\n",
        "    n = 5\n",
        "    x, y = np.ogrid[0:l, 0:l]\n",
        "    mask_outer = (x - l/2)**2 + (y - l/2)**2 < (l/2)**2\n",
        "    mask = np.zeros((l, l))\n",
        "    generator = np.random.RandomState(1)\n",
        "    points = l * generator.rand(2, n**2)\n",
        "    mask[(points[0]).astype(np.int), (points[1]).astype(np.int)] = 1\n",
        "    mask = ndimage.gaussian_filter(mask, sigma=l/(4.*n))\n",
        "    return mask > mask.mean()\n",
        "\n",
        "data = microstructure(l=64)\n",
        "\n",
        "# Compute the medial axis (skeleton) and the distance transform\n",
        "skel, distance = medial_axis(data, return_distance=True)\n",
        "\n",
        "# Distance to the background for pixels of the skeleton\n",
        "dist_on_skel = distance * skel\n",
        "\n",
        "plt.figure(figsize=(8, 4))\n",
        "plt.subplot(121)\n",
        "plt.imshow(data, cmap=plt.cm.gray, interpolation='nearest')\n",
        "plt.axis('off')\n",
        "plt.subplot(122)\n",
        "plt.imshow(dist_on_skel, cmap=plt.cm.get_cmap(\"Spectral\"), interpolation='nearest')\n",
        "plt.contour(data, [0.5], colors='w')\n",
        "plt.axis('off')\n",
        "\n",
        "plt.subplots_adjust(hspace=0.01, wspace=0.01, top=1, bottom=0, left=0, right=1)\n",
        "plt.show()"
      ],
      "execution_count": 0,
      "outputs": [
        {
          "output_type": "display_data",
          "data": {
            "image/png": "[encoded data removed]",
            "text/plain": [
              "<Figure size 576x288 with 2 Axes>"
            ]
          },
          "metadata": {
            "tags": []
          }
        }
      ]
    },
    {
      "cell_type": "markdown",
      "metadata": {
        "id": "gzE62xX--8rv",
        "colab_type": "text"
      },
      "source": [
        "### 3D skeletonization\n",
        "\n",
        "Of course, an end-to-end 3D model is a natural goal. But as of yet there is no known [not that the author is aware of] one-step machine where imaged volumes go in and skeletons come out.\n",
        "\n",
        "Therefore, existing 3D mask-to-skeleton algorithms will most likely come into play, at least in training feedback if not in the network itself. TEASAR seems to be one to try:\n",
        "- [TEASAR](http://spin2013.cs.sunysb.edu/~bender/pub/PG2000_teasar.pdf)\n",
        "  - seung-lab: [Python TEASAR Skeletonization for Sparse Labels](https://github.com/seung-lab/skeletonization)\n",
        "  - [TEASAR: simple alg](https://github.com/scikit-image/scikit-image/issues/1621), MIT license\n",
        "  - [Skeletonize.cpp](https://github.com/funkey/imageprocessing/blob/master/Skeletonize.cpp) funkey's C++, MIT\n"
      ]
    },
    {
      "cell_type": "markdown",
      "metadata": {
        "id": "WIJhBPgfJsN0",
        "colab_type": "text"
      },
      "source": [
        "## Evaluation metrics\n",
        "\n",
        "Algorithm performance must be scored via some objective evaluation metric. Usually this boils down to juxtaposing a generated skeleton against a ground truth skeleton, evaluated via some metric. Surprisingly the skeletons are usually not what the models generate – they generate masks which then get skeletonized (but such is the state of the art, until there exists some end-to-end image-stack-to-swc machine).\n"
      ]
    },
    {
      "cell_type": "markdown",
      "metadata": {
        "id": "vQvARjzkJvq9",
        "colab_type": "text"
      },
      "source": [
        "### The DIADEM Metric\n",
        "\n",
        "[The DIADEM Metric](http://diademchallenge.org/metric.html) is described in the paper, [The DIADEM Data Sets: Representative Light Microscopy Images of Neuronal Morphology to Advance Automation of Digital Reconstructions](https://www.researchgate.net/publication/49769275_The_DIADEM_Data_Sets_Representative_Light_Microscopy_Images_of_Neuronal_Morphology_to_Advance_Automation_of_Digital_Reconstructions) (Brown et al 2011).\n",
        "\n",
        "**Abstract:**\n",
        ">The comprehensive characterization of neuronal morphology requires tracing extensive axonal and dendritic arbors imaged with light microscopy into digital reconstructions. Considerable effort is ongoing to automate this greatly labor-intensive and currently rate-determining process. Experimental data in the form of manually traced digital reconstructions and corresponding image stacks play a vital role in developing increasingly more powerful reconstruction algorithms. The DIADEM challenge (short for DIgital reconstruction of Axonal and DEndritic Morphology) successfully stimulated progress in this area by utilizing six data set collections from different animal species, brain regions, neuron types, and visualization methods. The original research projects that provided these data are representative of the diverse scientific questions addressed in this field. At the same time, these data provide a benchmark for the types of demands automated software must meet to achieve the quality of manual reconstructions while minimizing human involvement. The DIADEM data underwent extensive curation, including quality control, metadata annotation, and format standardization, to focus the challenge on the most substantial technical obstacles. This data set package is now freely released ( http://diademchallenge.org ) to train, test, and aid development of automated reconstruction algorithms.\n",
        "\n",
        "\n",
        "[The DIADEM Metric README](http://diademchallenge.org/metric_readme.html):\n",
        ">The DIADEM metric is implemented as a command line Java program run from a JAR file that is downloadable from this site. This requires that you have Java installed on your computer. Java is available at http://www.java.com/ where you will be directed to the appropriate version for your operating system. The metric can score one gold standard reconstruction against one test reconstruction, or several of each at one time, depending on the values of the first two parameters. Expected units in the SWC files are pixels for X and Y, and images for Z (the same units as those in the provided manual reconstructions). The downloadable file, DiademMetric.zip (version 2.1 release notes) contains the following files…\n",
        "\n",
        "Colab comes with a JVM pre-configured."
      ]
    },
    {
      "cell_type": "code",
      "metadata": {
        "id": "r9Gcw94rLRwO",
        "colab_type": "code",
        "colab": {
          "base_uri": "https://localhost:8080/",
          "height": 68
        },
        "outputId": "d0f81224-0e34-4aa5-c872-b0672a5dd4bb"
      },
      "source": [
        "!java --version"
      ],
      "execution_count": 1,
      "outputs": [
        {
          "output_type": "stream",
          "text": [
            "openjdk 11.0.6 2020-01-14\n",
            "OpenJDK Runtime Environment (build 11.0.6+10-post-Ubuntu-1ubuntu118.04.1)\n",
            "OpenJDK 64-Bit Server VM (build 11.0.6+10-post-Ubuntu-1ubuntu118.04.1, mixed mode, sharing)\n"
          ],
          "name": "stdout"
        }
      ]
    },
    {
      "cell_type": "markdown",
      "metadata": {
        "id": "tWQuOdnnXn-a",
        "colab_type": "text"
      },
      "source": [
        "\n",
        "### Expected Run Lenght (ERL)\n",
        "[Google Connectomics](https://research.google/teams/perception/connectomics/) uses the \"expected run length\" (ERL) as a metric.\n",
        "\n",
        "<img src=\"https://1.bp.blogspot.com/-x7pyYbuScFo/WzQa1TbrpwI/AAAAAAAADGc/XKOLMuoKqOkZNyU3pb84qiXn_zQh8VSkgCLcBGAs/s1600/image2.png\" width=\"70%\" />\n",
        "\n",
        "\n",
        "On page 26, see the section entitled, \"Skeleton​​ edge ​​accuracy​​ classification.\":\n",
        "> Working with our partners at the Max Planck Institute, we devised a metric we call **“expected run length” (ERL)** that measures the following: given a random point within a random neuron in a 3d image of a brain, how far can we trace the neuron before making some kind of mistake? This is an example of a **mean-time-between-failure metric**, except that in this case we measure the amount of space between failures rather than the amount of time. For engineers, the appeal of ERL is that it relates a linear, physical path length to the frequency of individual mistakes that are made by an algorithm, and that it can be computed in a straightforward way. \n",
        "\n",
        "> In contrast to prior approaches, the ERL takes into account the spatial distribution of errors.\n",
        "Previously proposed metrics, such as the total error-free path length (TEFPL) 11,32 and inter-error\n",
        "distance (IED) 11 are defined as simple averages and are thus insensitive to the distribution of\n",
        "lengths of the correctly reconstructed fragments (see Sup. Fig. 2 for an illustration). \n",
        "\n"
      ]
    },
    {
      "cell_type": "markdown",
      "metadata": {
        "id": "mVJMInaaSQkJ",
        "colab_type": "text"
      },
      "source": [
        "## References\n",
        "\n",
        "Other skeletonization methods:\n",
        "- [DeepNeuron: An Open Deep Learning Toolbox for Neuron Tracing](https://www.biorxiv.org/content/10.1101/254318v1.full.pdf)\n",
        "  - Vaa3D, Allen Institute 2018\n"
      ]
    }
  ]
}