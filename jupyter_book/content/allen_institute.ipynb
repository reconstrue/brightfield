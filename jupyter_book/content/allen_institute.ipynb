{
  "nbformat": 4,
  "nbformat_minor": 0,
  "metadata": {
    "colab": {
      "name": "allen_institute.ipynb",
      "provenance": [],
      "toc_visible": true
    },
    "kernelspec": {
      "name": "python3",
      "display_name": "Python 3"
    }
  },
  "cells": [
    {
      "cell_type": "markdown",
      "metadata": {
        "id": "yUY14k1jmDnv",
        "colab_type": "text"
      },
      "source": [
        "# The Allen Institute\n",
        "\n",
        "![](http://reconstrue.com/projects/brightfield_neurons/colormapped_viridis.png)\n",
        "\n",
        "[The Allen Institute](https://alleninstitute.org/) (shorthand: \"the Allen,\") is arguable the best brightfield neuron imager on the planet. The Allen brightfield images a few thousand of individual neurons a year. The process is a major component of one of their foundational projects, The Cell Types Database, wherein they are cataloging all types of neurons in brains, consisting of thousands of types of neurons."
      ]
    },
    {
      "cell_type": "markdown",
      "metadata": {
        "id": "HAyN4cRrm7Ux",
        "colab_type": "text"
      },
      "source": [
        "## Data access options\n",
        "\n",
        "The data can be accessed 3 ways:\n",
        "- Web UI at brain-map.org\n",
        "- RMA, the Allen's RESTful HTTP API\n",
        "- Programatically via Allen SDK (Python)\n",
        "\n",
        "This is a Jupyter notebook of Python code so the Allen SDK is the natural way to go about accessing the data. Nonetheless, sometimes `allensdk` does not have an existing method to access some bit of data, in which case RMA is the fallback.\n",
        "\n",
        "\n",
        "A nice feature of the Allen Institute's set-up is that they do not require *any* auth to get to the public data in any of the three methods listed.\n"
      ]
    },
    {
      "cell_type": "markdown",
      "metadata": {
        "id": "Mnz5c9wLm-2y",
        "colab_type": "text"
      },
      "source": [
        "### brain-map.org web UI\n",
        "\n",
        "The most casual way to interact with the data is the main web UI at \n",
        "[brain-map.org](http://brain-map.org) The repository has a web UI, wherein the image stack can be viewed. Here is an example from their documentation [[*](http://help.brain-map.org/display/celltypes/Physiology+and+Morphology)]:\n",
        "\n",
        ">displays two orthogonal projections of the biocytin filled neuron and the neuron's 3D morphology reconstruction. From this page, you can also view the stack of high resolution images used for the reconstruction.\n",
        "\n",
        "![](http://help.brain-map.org/download/attachments/8323624/MorphBrowse.PNG?version=1&modificationDate=1476664307214&api=v2)\n",
        "\n",
        "So, we can explore the web UI to preview what the images look like but we want to download them via Python code:\n",
        "\n",
        "> You can also access the data programatically and obtain sample code to run your own model simulations. For more details go to the Download page. \n",
        "\n"
      ]
    },
    {
      "cell_type": "markdown",
      "metadata": {
        "id": "lhN94IdsnDA1",
        "colab_type": "text"
      },
      "source": [
        "### RESTful RMA\n",
        "\n",
        "The Allen Institute's [RMA](http://help.brain-map.org/pages/viewpage.action?pageId=5308449) is a RESTful HTTP interface their resources and data at brain-map.org, which is where the target images and `*.swc` files reside. RMA is a [HATEOAS](https://restfulapi.net/hateoas/) style RESTful API.\n",
        "\n",
        "[RMA docs](http://help.brain-map.org/pages/viewpage.action?pageId=5308449):\n",
        ">RESTful Model Access (RMA) is an HTTP service designed along RESTful principles to allow access to data in the Allen Institute API\n",
        "\n",
        " This is the core way to get **all** data, but although REST is fine technology it's not the nicest way to interact with anything, rather it would be nicer to have convenience Python methods to call instead, with a cache to boot…\n",
        "\n"
      ]
    },
    {
      "cell_type": "markdown",
      "metadata": {
        "id": "NWEQBOFNnF5h",
        "colab_type": "text"
      },
      "source": [
        "### Allen SDK\n",
        "\n",
        "The Allen Institute first came up with a RESTful interface, RMA, to their resources, later they added the Python [Allen SDK](https://allensdk.readthedocs.io/en/latest/) as client-side convenience wrapper code around the RMA. \n",
        "\n",
        "The `allensdk` is Python code which provides a programmatic interface to the info available via RMI. It also maintains a cache of files for performance purposes (`allensdk.core.cell_types_cache.CellTypesCache`).\n",
        "\n",
        "Although `allensdk` can provide metadata about cells in the repository, it does not have methods to acquire the raw image stack. To get the raw images, RMI is the only method. So, `allensdk` can provide IDs of available cells, but further work is required to then iterate through the stack and grab each file. That's the goal here.\n"
      ]
    },
    {
      "cell_type": "code",
      "metadata": {
        "id": "rLECCR99lxoD",
        "colab_type": "code",
        "colab": {}
      },
      "source": [
        ""
      ],
      "execution_count": 0,
      "outputs": []
    }
  ]
}