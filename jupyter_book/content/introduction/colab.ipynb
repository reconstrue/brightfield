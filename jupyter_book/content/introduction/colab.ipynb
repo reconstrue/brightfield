{
 "cells": [
  {
   "cell_type": "markdown",
   "metadata": {
    "tags": [
     "full_width"
    ]
   },
   "source": [
    "# Google Colab\n",
    "\n",
    "![](../images/minip_bw.png)\n",
    "\n",
    "Google Colab is nice. Google Colab is free.\n",
    "\n",
    "\n",
    "![(c) Nico Holmberg](https://res.cloudinary.com/nholmber/image/upload/v1536751563/jupyter_colab_small_axbdcm.png)\n",
    "\n",
    "[Integrating Google Colaboratory into Your Machine Learning Workflow](https://nholmber.github.io/2018/09/google-colab/)\n",
    "\n"
   ]
  },
  {
   "cell_type": "code",
   "execution_count": null,
   "metadata": {},
   "outputs": [],
   "source": []
  }
 ],
 "metadata": {
  "kernelspec": {
   "display_name": "Python 3",
   "language": "python",
   "name": "python3"
  },
  "language_info": {
   "codemirror_mode": {
    "name": "ipython",
    "version": 3
   },
   "file_extension": ".py",
   "mimetype": "text/x-python",
   "name": "python",
   "nbconvert_exporter": "python",
   "pygments_lexer": "ipython3",
   "version": "3.6.7"
  }
 },
 "nbformat": 4,
 "nbformat_minor": 2
}
