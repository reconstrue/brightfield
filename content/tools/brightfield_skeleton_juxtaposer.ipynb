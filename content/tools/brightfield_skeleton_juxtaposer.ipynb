{
  "nbformat": 4,
  "nbformat_minor": 0,
  "metadata": {
    "colab": {
      "name": "brightfield_skeleton_juxtaposer.ipynb",
      "provenance": [],
      "collapsed_sections": []
    },
    "kernelspec": {
      "name": "python3",
      "display_name": "Python 3"
    }
  },
  "cells": [
    {
      "cell_type": "markdown",
      "metadata": {
        "id": "5hADTS5ZIOED",
        "colab_type": "text"
      },
      "source": [
        "# Brightfield skeleton juxtaposer\n",
        "\n",
        "Goal: Provide some Jupyter notebook based UI for evaluating how a generated SWC skeleton file compares to a gold standard skeleton for a given neuron image stack. I.e. this is the dashboard for someone actually evaluating challenge results.\n",
        "\n",
        "This notebook will not make SWC files, it simply renders pre-generated SWCs. This should be the main UI tool for evaluation. The SWC generation notebooks will only have sanity check 2D project plots. Comparison UI happens here. \n",
        "\n",
        "For more on the project's context, see [rightfield neuron reconstruction challenge](https://colab.research.google.com/drive/1qvwT-SxHpZSLQ88VeIOkR296pbZfQqTK#scrollTo=UHFoENqqYV65).\n",
        "\n",
        "\n",
        "## Status\n",
        "Colab can be limiting in what UI is allowed, so this notebook is the point for collecting those limitations. Binder is much freer; that will be a separate notebook, after Colab is worked out first.\n",
        "\n",
        "- 2019-10-13 \n",
        "  - started testing Colab-friendly UI tools for SWC viewing\n",
        "- 2019-10-12:\n",
        "  - Spun up this file, with some notes\n",
        "\n",
        "## UI inspired by paper handout from challenge meeting\n",
        "Minimally, the evalution viewer notebook should essentially repreduce the paper handout from the evalution meeting of 2019-10-04. It should be a stand alone tool which simply loads an image stack and 2 SWC files.\n",
        "\n",
        "Basically, this notebook should show 5 images side-by-side, horizontally inline:\n",
        "\n",
        "1. The original brightfield \"cover image\"\n",
        "2. Gold standard SWC front view\n",
        "3. Gold standard SWC side view\n",
        "4. Generated SWC front view\n",
        "5. Generated SWC size view\n",
        "\n",
        "Note that the above initial solution is **not interactive at all**; it is very much inspired by the paper handout (it also minimizes the required features for an initial deliverable; hopefully, an interactive version will come soon after the initial drop, dunno.)\n",
        "\n",
        "Due to the limits of Colab (only so much time (12 hours), memory, and file system is given to the free tier) the Colab deploy of the challenge code will only process a single neuron image stack at a time. \n",
        "\n",
        "This tool should just show one neuron image stack and one reconstruction on a page (two reconstructions actually: the gold standard and a given second generated SWC reconstruction). \n",
        "\n",
        "Demonstrating how to process just one neuron is sufficient for folks to figure out how to repeat for all neurons in the dataset. (Might even get to a drop down for choosing which neuron to trace.)\n",
        "\n",
        "So, this notebook will be the equivalent of one third of a paper handout from the 2019-10-04 meeing, which was comparing 3 candidates, each page showing the above 5 images, 3 times a page, once for each of the 3 candidates.\n",
        "\n",
        "## Features\n",
        "Here's just a list of ideas. \n",
        "\n",
        "- 3D volume viewer:\n",
        "The sky's the limit for JupyterLab widgets but on Colab, UI options are much more constrained. Currently, what 3D volume viewer to use is an open question, one that would be trivial on a generic JupyterLab deploy.\n",
        "\n",
        "- Synced interactive: show both SWCs in dual side-by-side volume displays, or as layers of one single volume displayer. So moving one view makes the same camera movement happen in second displayer.\n",
        "\n",
        "- Hopefully eventually this page can score the quality of a generated SWC scored against a gold standard manual reconstruction SWC. But that is a completely open question. Evaluation in the challenge was initially done using human expert judges. There is no scoring software.\n",
        "\n",
        "\n",
        "\n"
      ]
    },
    {
      "cell_type": "code",
      "metadata": {
        "id": "kDsVnYFtIKpa",
        "colab_type": "code",
        "outputId": "05cc38d0-219b-4e18-fcb9-2c90dad34e42",
        "colab": {
          "base_uri": "https://localhost:8080/",
          "height": 643
        }
      },
      "source": [
        "# Install BlueBrain's NeuroM toolkit for the analysis and processing of neuron morphologies. \n",
        "# https://github.com/BlueBrain/NeuroM\n",
        "!pip install neurom"
      ],
      "execution_count": 0,
      "outputs": [
        {
          "output_type": "stream",
          "text": [
            "Collecting neurom\n",
            "\u001b[?25l  Downloading https://files.pythonhosted.org/packages/dc/05/18348d3dd6b16373b5a10e6c52d247bedb8d0a13477e8f842f71d2c21d85/neurom-1.4.14.tar.gz (78kB)\n",
            "\u001b[K     |████████████████████████████████| 81kB 3.1MB/s \n",
            "\u001b[?25hRequirement already satisfied: click>=7.0 in /usr/local/lib/python3.6/dist-packages (from neurom) (7.0)\n",
            "Collecting enum34>=1.0.4 (from neurom)\n",
            "  Downloading https://files.pythonhosted.org/packages/af/42/cb9355df32c69b553e72a2e28daee25d1611d2c0d9c272aa1d34204205b2/enum34-1.1.6-py3-none-any.whl\n",
            "Requirement already satisfied: future>=0.16.0 in /usr/local/lib/python3.6/dist-packages (from neurom) (0.16.0)\n",
            "Requirement already satisfied: h5py>=2.7.1 in /usr/local/lib/python3.6/dist-packages (from neurom) (2.8.0)\n",
            "Requirement already satisfied: matplotlib>=1.3.1 in /usr/local/lib/python3.6/dist-packages (from neurom) (3.0.3)\n",
            "Requirement already satisfied: numpy>=1.8.0 in /usr/local/lib/python3.6/dist-packages (from neurom) (1.16.5)\n",
            "Collecting pylru>=1.0 (from neurom)\n",
            "  Downloading https://files.pythonhosted.org/packages/9c/88/30972cd0518452563221c80bffc2a5832499d736648ef8fe492affae15c5/pylru-1.2.0.tar.gz\n",
            "Requirement already satisfied: pyyaml>=3.10 in /usr/local/lib/python3.6/dist-packages (from neurom) (3.13)\n",
            "Requirement already satisfied: scipy>=1.2.0 in /usr/local/lib/python3.6/dist-packages (from neurom) (1.3.1)\n",
            "Requirement already satisfied: tqdm>=4.8.4 in /usr/local/lib/python3.6/dist-packages (from neurom) (4.28.1)\n",
            "Requirement already satisfied: six in /usr/local/lib/python3.6/dist-packages (from h5py>=2.7.1->neurom) (1.12.0)\n",
            "Requirement already satisfied: cycler>=0.10 in /usr/local/lib/python3.6/dist-packages (from matplotlib>=1.3.1->neurom) (0.10.0)\n",
            "Requirement already satisfied: pyparsing!=2.0.4,!=2.1.2,!=2.1.6,>=2.0.1 in /usr/local/lib/python3.6/dist-packages (from matplotlib>=1.3.1->neurom) (2.4.2)\n",
            "Requirement already satisfied: kiwisolver>=1.0.1 in /usr/local/lib/python3.6/dist-packages (from matplotlib>=1.3.1->neurom) (1.1.0)\n",
            "Requirement already satisfied: python-dateutil>=2.1 in /usr/local/lib/python3.6/dist-packages (from matplotlib>=1.3.1->neurom) (2.5.3)\n",
            "Requirement already satisfied: setuptools in /usr/local/lib/python3.6/dist-packages (from kiwisolver>=1.0.1->matplotlib>=1.3.1->neurom) (41.2.0)\n",
            "Building wheels for collected packages: neurom, pylru\n",
            "  Building wheel for neurom (setup.py) ... \u001b[?25l\u001b[?25hdone\n",
            "  Created wheel for neurom: filename=neurom-1.4.14-cp36-none-any.whl size=151343 sha256=227348f59a7426652be04b0196324afa49d5a6aa4d1889cada5d674a542880f2\n",
            "  Stored in directory: /root/.cache/pip/wheels/5f/d9/98/e0982d2025306df1ab848b44dd38b080c216ec26e3d48f73a9\n",
            "  Building wheel for pylru (setup.py) ... \u001b[?25l\u001b[?25hdone\n",
            "  Created wheel for pylru: filename=pylru-1.2.0-cp36-none-any.whl size=15692 sha256=6ce38a73491619a3030af501272a74726c3b11a6ab8d01e11be3a654f44025df\n",
            "  Stored in directory: /root/.cache/pip/wheels/49/b3/ae/8cb9bea68302f8868f0c85bb3df300f97c284e4802d958be96\n",
            "Successfully built neurom pylru\n",
            "Installing collected packages: enum34, pylru, neurom\n",
            "Successfully installed enum34-1.1.6 neurom-1.4.14 pylru-1.2.0\n"
          ],
          "name": "stdout"
        },
        {
          "output_type": "display_data",
          "data": {
            "application/vnd.colab-display-data+json": {
              "pip_warning": {
                "packages": [
                  "enum"
                ]
              }
            }
          },
          "metadata": {
            "tags": []
          }
        }
      ]
    },
    {
      "cell_type": "code",
      "metadata": {
        "id": "Mxg46aTaWPSA",
        "colab_type": "code",
        "outputId": "35518e55-7ad6-494a-fbe4-1937a16021b8",
        "colab": {
          "base_uri": "https://localhost:8080/",
          "height": 168
        }
      },
      "source": [
        "!morph_stats /content/granuleCell63XStart/granule-.auto.swc"
      ],
      "execution_count": 0,
      "outputs": [
        {
          "output_type": "stream",
          "text": [
            "WARNING:root:Using default config: /usr/local/lib/python3.6/dist-packages/neurom/config/morph_stats.yaml\n",
            "Traceback (most recent call last):\n",
            "  File \"/usr/local/bin/morph_stats\", line 138, in <module>\n",
            "    main(_args)\n",
            "  File \"/usr/local/bin/morph_stats\", line 99, in main\n",
            "    neurons = nm.load_neurons(get_files_by_path(args.datapath),\n",
            "  File \"/usr/local/lib/python3.6/dist-packages/neurom/io/utils.py\", line 112, in get_files_by_path\n",
            "    raise IOError('Invalid data path %s' % path)\n",
            "OSError: Invalid data path /content/granuleCell63XStart/granule-.auto.swc\n"
          ],
          "name": "stdout"
        }
      ]
    },
    {
      "cell_type": "code",
      "metadata": {
        "id": "KOGNchP-WcxP",
        "colab_type": "code",
        "colab": {}
      },
      "source": [
        ""
      ],
      "execution_count": 0,
      "outputs": []
    }
  ]
}