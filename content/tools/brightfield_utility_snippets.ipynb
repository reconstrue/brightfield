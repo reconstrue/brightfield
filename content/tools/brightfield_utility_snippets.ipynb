{
  "nbformat": 4,
  "nbformat_minor": 0,
  "metadata": {
    "colab": {
      "name": "brightfield_utility_snippets.ipynb",
      "provenance": []
    },
    "kernelspec": {
      "name": "python3",
      "display_name": "Python 3"
    }
  },
  "cells": [
    {
      "cell_type": "markdown",
      "metadata": {
        "id": "ilAKttEwg7Qn",
        "colab_type": "text"
      },
      "source": [
        "# Brightfield challenge snippets\n",
        "\n",
        "This file is intended to be a short list of useful bits of code (Colab calls them \"snippets\") which can be easily dropped into any Jupyter on Colab and then run to do something, useful hopefully.\n"
      ]
    },
    {
      "cell_type": "code",
      "metadata": {
        "id": "zSXx1cpZYgPl",
        "colab_type": "code",
        "colab": {}
      },
      "source": [
        "# Dummy constants for testing\n",
        "import os\n",
        "\n",
        "cell_id = \"647289876\"\n",
        "dataset_file_system_prefix_for_cell_data = \"651806289/\"\n",
        "local_cache_dir = \"/content/allen_institute_dataset/\"\n",
        "image_stack_src_dir = os.path.join(local_cache_dir, cell_id, \"src\")\n"
      ],
      "execution_count": 0,
      "outputs": []
    },
    {
      "cell_type": "markdown",
      "metadata": {
        "id": "tUED_ZzopWPg",
        "colab_type": "text"
      },
      "source": [
        "# Brightfield Cast of characters\n",
        "\n",
        "There are a few names used through out the demo in consistent ways. Things like dowload cache directory name etc. \n",
        "\n",
        "These notebooks are designed to individually process cells from the BioImage 2019 Brightfield Challenge dataset. \"Individually, because downloading the whole 2TB of files in the dataset is beyond the free storage on Colab; but Colab can easily process one cell's data at a time."
      ]
    },
    {
      "cell_type": "code",
      "metadata": {
        "id": "QdWnMClypbpZ",
        "colab_type": "code",
        "colab": {
          "base_uri": "https://localhost:8080/",
          "height": 101
        },
        "outputId": "b6826363-9ad2-44f6-f61a-0ba50176b05d"
      },
      "source": [
        "# The ID of the single cell to download.\n",
        "# E.g., cell_id = \"651806289\"\n",
        "print(\"cell_id = \" + cell_id)\n",
        "\n",
        "# Dataset subroot prefix directory name of cell's data.\n",
        "# - For training neurons, will look like \"651806289/\"\n",
        "# - For Testing neurons, will look like \"TEST_DATA_SET/715953708/\"\n",
        "print(\"dataset_file_system_prefix_for_cell_data = \" + dataset_file_system_prefix_for_cell_data)\n",
        "\n",
        "\n",
        "\n",
        "# The notebooks all download (cache) data to the same local file system directory.\n",
        "\n",
        "# The root of all data downloads:\n",
        "print(\"local_cache_dir = \" + local_cache_dir)\n",
        "\n",
        "# Each cell's data is kept in separate directories. This includes\n",
        "# source and built files.\n",
        "\n",
        "# Source data directories are sub-folders of a cells directory. Files in \n",
        "# sub-directories named \"src/\" are intended to not be modified after \n",
        "# initial download. Built files are not written to the source directories.\n",
        "image_stack_src_dir = os.path.join(local_cache_dir, cell_id, \"src\")\n",
        "print(\"Downloaded/cached image stack source images are in:\")\n",
        "print(\"image_stack_src_dir = \" + image_stack_src_dir)"
      ],
      "execution_count": 5,
      "outputs": [
        {
          "output_type": "stream",
          "text": [
            "cell_id = 647289876\n",
            "dataset_file_system_prefix_for_cell_data = 651806289/\n",
            "local_cache_dir = /content/allen_institute_dataset/\n",
            "Downloaded/cached image stack source images are in:\n",
            "image_stack_src_dir = /content/allen_institute_dataset/647289876/src\n"
          ],
          "name": "stdout"
        }
      ]
    },
    {
      "cell_type": "markdown",
      "metadata": {
        "id": "0tOtp9flhJeU",
        "colab_type": "text"
      },
      "source": [
        "# Brightfield: cache view\n",
        "Cache is also where working directories are and artifacts, e.g. a downsampled z-stack.\n",
        "\n",
        "\n"
      ]
    },
    {
      "cell_type": "code",
      "metadata": {
        "id": "SWRI9Pu-gbOB",
        "colab_type": "code",
        "colab": {
          "base_uri": "https://localhost:8080/",
          "height": 50
        },
        "outputId": "b3ae3b8c-6418-4b96-fdb6-5390c6feb7f1"
      },
      "source": [
        "# Get stats on the data_dir on file system\n",
        "\n",
        "# Normally, local_cache_dir = \"/content/allen_institute_dataset/\"\n",
        "data_dir = local_cache_dir\n",
        "if os.path.isdir(data_dir):\n",
        "  !ls {data_dir}\n",
        "  !du -h {data_dir}\n",
        "  !echo Source image stack size:\n",
        "  !ls -1 {image_stack_src_dir}/*.tif|wc -l\n",
        "else:\n",
        "  print(\"Do not seem like data directory has been created yet.\")\n",
        "  print(\"Was looking for it at: \" + data_dir)\n",
        "  \n",
        "  \n",
        "  \n",
        "  \n",
        "\n",
        "\n"
      ],
      "execution_count": 2,
      "outputs": [
        {
          "output_type": "stream",
          "text": [
            "Do not seem like data directory has been created yet.\n",
            "Was looking for it at: /content/allen_institute_dataset/\n"
          ],
          "name": "stdout"
        }
      ]
    }
  ]
}