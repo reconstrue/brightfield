{
  "nbformat": 4,
  "nbformat_minor": 0,
  "metadata": {
    "colab": {
      "name": "bossphorus_on_colab.ipynb",
      "provenance": []
    },
    "kernelspec": {
      "name": "python3",
      "display_name": "Python 3"
    }
  },
  "cells": [
    {
      "cell_type": "markdown",
      "metadata": {
        "id": "4mMkjED2uwa6",
        "colab_type": "text"
      },
      "source": [
        "# Bossphorus on Colab\n",
        "\n",
        "Bossphorus is a single-user, single-machine implementation of a web service with the BossDB APIs. It is written in Python. So, could it be used on Colab as a caching service? Instead of its usual task of keeping most data on disk, on Colab let's use it to keep most data in some remote BossDB API'd repository and some area of interest in the Colab VMs file system (which is 350 GB, max 12 hours).\n",
        "\n"
      ]
    },
    {
      "cell_type": "markdown",
      "metadata": {
        "id": "woZRkMZTu-Gk",
        "colab_type": "text"
      },
      "source": [
        "## Naive install\n",
        "\n",
        "Following the docs in the repo for [installing bossphorus via pip](https://github.com/aplbrain/bossphorus#pip-method), the first little piggie would be a simple `pip install`, which will fail:\n",
        "```bash\n",
        "$ pip install -U bossphorus --log /content/pip_log.txt\n",
        "```\n",
        "\n",
        "```\n",
        "Collecting bossphorus\n",
        "  Using cached https://files.pythonhosted.org/packages/d1/88/48592ad7cec175af4147205061822f68144660a65e16fa4162408057dffb/bossphorus-0.1.0.tar.gz\n",
        "ERROR: Command errored out with exit status 1: python setup.py egg_info Check the logs for full command output.\n",
        "```"
      ]
    },
    {
      "cell_type": "markdown",
      "metadata": {
        "id": "EYWcN8Xs1Dp6",
        "colab_type": "text"
      },
      "source": [
        "## Install pre-requisites\n",
        "\n",
        "After a few passes at trial-and-error install attempts, seems installing Conda is the first step. We only need it for doing further installs, so the minimal is all we need i.e. `miniconda`."
      ]
    },
    {
      "cell_type": "code",
      "metadata": {
        "id": "kdikuByHuo4s",
        "colab_type": "code",
        "colab": {
          "base_uri": "https://localhost:8080/",
          "height": 918
        },
        "outputId": "aa14fc9f-6e42-4cb0-ff5e-7c647f905c5a"
      },
      "source": [
        "!wget https://repo.continuum.io/miniconda/Miniconda3-4.5.4-Linux-x86_64.sh\n",
        "!chmod +x Miniconda3-4.5.4-Linux-x86_64.sh\n",
        "!bash ./Miniconda3-4.5.4-Linux-x86_64.sh -b -f -p /usr/local"
      ],
      "execution_count": 1,
      "outputs": [
        {
          "output_type": "stream",
          "text": [
            "--2020-01-26 07:56:58--  https://repo.continuum.io/miniconda/Miniconda3-4.5.4-Linux-x86_64.sh\n",
            "Resolving repo.continuum.io (repo.continuum.io)... 104.18.201.79, 104.18.200.79, 2606:4700::6812:c84f, ...\n",
            "Connecting to repo.continuum.io (repo.continuum.io)|104.18.201.79|:443... connected.\n",
            "HTTP request sent, awaiting response... 200 OK\n",
            "Length: 58468498 (56M) [application/x-sh]\n",
            "Saving to: ‘Miniconda3-4.5.4-Linux-x86_64.sh’\n",
            "\n",
            "Miniconda3-4.5.4-Li 100%[===================>]  55.76M   110MB/s    in 0.5s    \n",
            "\n",
            "2020-01-26 07:56:59 (110 MB/s) - ‘Miniconda3-4.5.4-Linux-x86_64.sh’ saved [58468498/58468498]\n",
            "\n",
            "PREFIX=/usr/local\n",
            "installing: python-3.6.5-hc3d631a_2 ...\n",
            "Python 3.6.5 :: Anaconda, Inc.\n",
            "installing: ca-certificates-2018.03.07-0 ...\n",
            "installing: conda-env-2.6.0-h36134e3_1 ...\n",
            "installing: libgcc-ng-7.2.0-hdf63c60_3 ...\n",
            "installing: libstdcxx-ng-7.2.0-hdf63c60_3 ...\n",
            "installing: libffi-3.2.1-hd88cf55_4 ...\n",
            "installing: ncurses-6.1-hf484d3e_0 ...\n",
            "installing: openssl-1.0.2o-h20670df_0 ...\n",
            "installing: tk-8.6.7-hc745277_3 ...\n",
            "installing: xz-5.2.4-h14c3975_4 ...\n",
            "installing: yaml-0.1.7-had09818_2 ...\n",
            "installing: zlib-1.2.11-ha838bed_2 ...\n",
            "installing: libedit-3.1.20170329-h6b74fdf_2 ...\n",
            "installing: readline-7.0-ha6073c6_4 ...\n",
            "installing: sqlite-3.23.1-he433501_0 ...\n",
            "installing: asn1crypto-0.24.0-py36_0 ...\n",
            "installing: certifi-2018.4.16-py36_0 ...\n",
            "installing: chardet-3.0.4-py36h0f667ec_1 ...\n",
            "installing: idna-2.6-py36h82fb2a8_1 ...\n",
            "installing: pycosat-0.6.3-py36h0a5515d_0 ...\n",
            "installing: pycparser-2.18-py36hf9f622e_1 ...\n",
            "installing: pysocks-1.6.8-py36_0 ...\n",
            "installing: ruamel_yaml-0.15.37-py36h14c3975_2 ...\n",
            "installing: six-1.11.0-py36h372c433_1 ...\n",
            "installing: cffi-1.11.5-py36h9745a5d_0 ...\n",
            "installing: setuptools-39.2.0-py36_0 ...\n",
            "installing: cryptography-2.2.2-py36h14c3975_0 ...\n",
            "installing: wheel-0.31.1-py36_0 ...\n",
            "installing: pip-10.0.1-py36_0 ...\n",
            "installing: pyopenssl-18.0.0-py36_0 ...\n",
            "installing: urllib3-1.22-py36hbe7ace6_0 ...\n",
            "installing: requests-2.18.4-py36he2e5f8d_1 ...\n",
            "installing: conda-4.5.4-py36_0 ...\n",
            "installation finished.\n",
            "WARNING:\n",
            "    You currently have a PYTHONPATH environment variable set. This may cause\n",
            "    unexpected behavior when running the Python interpreter in Miniconda3.\n",
            "    For best results, please verify that your PYTHONPATH only points to\n",
            "    directories of packages that are compatible with the Python interpreter\n",
            "    in Miniconda3: /usr/local\n"
          ],
          "name": "stdout"
        }
      ]
    },
    {
      "cell_type": "markdown",
      "metadata": {
        "id": "LvkEgPk51ikv",
        "colab_type": "text"
      },
      "source": [
        "With that base, now we can install things that the above `pip install` expect to be pre-installed, which has been uncovered via the forementioned trial-and-error. (The following will hopefully end in `Executing transaction: done`.)"
      ]
    },
    {
      "cell_type": "code",
      "metadata": {
        "id": "4DkqOcX61rXk",
        "colab_type": "code",
        "colab": {
          "base_uri": "https://localhost:8080/",
          "height": 1000
        },
        "outputId": "fb3fc343-0729-4853-c231-30d266e07135"
      },
      "source": [
        "!conda install --yes blosc python-blosc"
      ],
      "execution_count": 3,
      "outputs": [
        {
          "output_type": "stream",
          "text": [
            "Solving environment: - \b\b\\ \b\b| \b\b/ \b\b- \b\b\\ \b\b| \b\b/ \b\b- \b\b\\ \b\b| \b\b/ \b\b- \b\b\\ \b\b| \b\b/ \b\b- \b\b\\ \b\b| \b\b/ \b\b- \b\b\\ \b\b| \b\b/ \b\b- \b\b\\ \b\b| \b\b/ \b\b- \b\b\\ \b\b| \b\b/ \b\b- \b\b\\ \b\b| \b\b/ \b\b- \b\b\\ \b\b| \b\b/ \b\b- \b\b\\ \b\b| \b\b/ \b\b- \b\b\\ \b\b| \b\b/ \b\b- \b\b\\ \b\b| \b\b/ \b\b- \b\b\\ \b\b| \b\b/ \b\b- \b\b\\ \b\b| \b\b/ \b\b- \b\b\\ \b\b| \b\b/ \b\b- \b\b\\ \b\b| \b\b/ \b\b- \b\b\\ \b\b| \b\b/ \b\b- \b\b\\ \b\b| \b\b/ \b\b- \b\b\\ \b\b| \b\b/ \b\b- \b\b\\ \b\b| \b\b/ \b\b- \b\b\\ \b\b| \b\b/ \b\b- \b\b\\ \b\b| \b\b/ \b\b- \b\b\\ \b\b| \b\b/ \b\b- \b\b\\ \b\b| \b\b/ \b\b- \b\b\\ \b\b| \b\b/ \b\b- \b\b\\ \b\b| \b\b/ \b\b- \b\b\\ \b\b| \b\b/ \b\b- \b\b\\ \b\b| \b\b/ \b\b- \b\b\\ \b\b| \b\b/ \b\b- \b\b\\ \b\b| \b\bdone\n",
            "\n",
            "\n",
            "==> WARNING: A newer version of conda exists. <==\n",
            "  current version: 4.5.4\n",
            "  latest version: 4.8.1\n",
            "\n",
            "Please update conda by running\n",
            "\n",
            "    $ conda update -n base conda\n",
            "\n",
            "\n",
            "\n",
            "## Package Plan ##\n",
            "\n",
            "  environment location: /usr/local\n",
            "\n",
            "  added / updated specs: \n",
            "    - blosc\n",
            "    - python-blosc\n",
            "\n",
            "\n",
            "The following packages will be downloaded:\n",
            "\n",
            "    package                    |            build\n",
            "    ---------------------------|-----------------\n",
            "    snappy-1.1.7               |       hbae5bb6_3          38 KB\n",
            "    wheel-0.33.6               |           py38_0          35 KB\n",
            "    libgcc-ng-9.1.0            |       hdf63c60_0         8.1 MB\n",
            "    libstdcxx-ng-9.1.0         |       hdf63c60_0         4.0 MB\n",
            "    pip-19.3.1                 |           py38_0         1.9 MB\n",
            "    python-blosc-1.7.0         |   py38h7b6447c_0          49 KB\n",
            "    readline-7.0               |       h7b6447c_5         392 KB\n",
            "    zlib-1.2.11                |       h7b6447c_3         120 KB\n",
            "    blosc-1.16.3               |       hd408876_0          82 KB\n",
            "    libgfortran-ng-7.3.0       |       hdf63c60_0         1.3 MB\n",
            "    mkl_fft-1.0.15             |   py38ha843d7b_0         178 KB\n",
            "    openssl-1.1.1d             |       h7b6447c_3         3.7 MB\n",
            "    lz4-c-1.8.1.2              |       h14c3975_0         158 KB\n",
            "    ca-certificates-2019.11.27 |                0         132 KB\n",
            "    tk-8.6.8                   |       hbc83047_0         3.1 MB\n",
            "    intel-openmp-2019.4        |              243         876 KB\n",
            "    _libgcc_mutex-0.1          |             main           3 KB\n",
            "    blas-1.0                   |              mkl           6 KB\n",
            "    certifi-2019.11.28         |           py38_0         156 KB\n",
            "    numpy-base-1.18.1          |   py38hde5b4d6_1         5.3 MB\n",
            "    ncurses-6.1                |       he6710b0_1         958 KB\n",
            "    python-3.8.1               |       h0371630_1        57.8 MB\n",
            "    mkl_random-1.1.0           |   py38h962f231_0         398 KB\n",
            "    setuptools-44.0.0          |           py38_0         652 KB\n",
            "    six-1.13.0                 |           py38_0          27 KB\n",
            "    ld_impl_linux-64-2.33.1    |       h53a641e_7         645 KB\n",
            "    zstd-1.3.7                 |       h0b5b093_0         887 KB\n",
            "    mkl-service-2.3.0          |   py38he904b0f_0          68 KB\n",
            "    numpy-1.18.1               |   py38h4f9e942_0           5 KB\n",
            "    mkl-2019.4                 |              243       204.1 MB\n",
            "    sqlite-3.30.1              |       h7b6447c_0         1.9 MB\n",
            "    libedit-3.1.20181209       |       hc058e9b_0         188 KB\n",
            "    ------------------------------------------------------------\n",
            "                                           Total:       297.1 MB\n",
            "\n",
            "The following NEW packages will be INSTALLED:\n",
            "\n",
            "    _libgcc_mutex:    0.1-main               \n",
            "    blas:             1.0-mkl                \n",
            "    blosc:            1.16.3-hd408876_0      \n",
            "    intel-openmp:     2019.4-243             \n",
            "    ld_impl_linux-64: 2.33.1-h53a641e_7      \n",
            "    libgfortran-ng:   7.3.0-hdf63c60_0       \n",
            "    lz4-c:            1.8.1.2-h14c3975_0     \n",
            "    mkl:              2019.4-243             \n",
            "    mkl-service:      2.3.0-py38he904b0f_0   \n",
            "    mkl_fft:          1.0.15-py38ha843d7b_0  \n",
            "    mkl_random:       1.1.0-py38h962f231_0   \n",
            "    numpy:            1.18.1-py38h4f9e942_0  \n",
            "    numpy-base:       1.18.1-py38hde5b4d6_1  \n",
            "    python-blosc:     1.7.0-py38h7b6447c_0   \n",
            "    snappy:           1.1.7-hbae5bb6_3       \n",
            "    zstd:             1.3.7-h0b5b093_0       \n",
            "\n",
            "The following packages will be UPDATED:\n",
            "\n",
            "    ca-certificates:  2018.03.07-0            --> 2019.11.27-0           \n",
            "    certifi:          2018.4.16-py36_0        --> 2019.11.28-py38_0      \n",
            "    libedit:          3.1.20170329-h6b74fdf_2 --> 3.1.20181209-hc058e9b_0\n",
            "    libgcc-ng:        7.2.0-hdf63c60_3        --> 9.1.0-hdf63c60_0       \n",
            "    libstdcxx-ng:     7.2.0-hdf63c60_3        --> 9.1.0-hdf63c60_0       \n",
            "    ncurses:          6.1-hf484d3e_0          --> 6.1-he6710b0_1         \n",
            "    openssl:          1.0.2o-h20670df_0       --> 1.1.1d-h7b6447c_3      \n",
            "    pip:              10.0.1-py36_0           --> 19.3.1-py38_0          \n",
            "    python:           3.6.5-hc3d631a_2        --> 3.8.1-h0371630_1       \n",
            "    readline:         7.0-ha6073c6_4          --> 7.0-h7b6447c_5         \n",
            "    setuptools:       39.2.0-py36_0           --> 44.0.0-py38_0          \n",
            "    six:              1.11.0-py36h372c433_1   --> 1.13.0-py38_0          \n",
            "    sqlite:           3.23.1-he433501_0       --> 3.30.1-h7b6447c_0      \n",
            "    tk:               8.6.7-hc745277_3        --> 8.6.8-hbc83047_0       \n",
            "    wheel:            0.31.1-py36_0           --> 0.33.6-py38_0          \n",
            "    zlib:             1.2.11-ha838bed_2       --> 1.2.11-h7b6447c_3      \n",
            "\n",
            "\n",
            "Downloading and Extracting Packages\n",
            "snappy-1.1.7         |   38 KB | : 100% 1.0/1 [00:00<00:00, 21.62it/s]\n",
            "wheel-0.33.6         |   35 KB | : 100% 1.0/1 [00:00<00:00,  8.68it/s]\n",
            "libgcc-ng-9.1.0      |  8.1 MB | : 100% 1.0/1 [00:01<00:00,  1.59s/it]               \n",
            "libstdcxx-ng-9.1.0   |  4.0 MB | : 100% 1.0/1 [00:00<00:00,  1.27it/s]               \n",
            "pip-19.3.1           |  1.9 MB | : 100% 1.0/1 [00:00<00:00,  1.34it/s]               \n",
            "python-blosc-1.7.0   |   49 KB | : 100% 1.0/1 [00:00<00:00, 23.35it/s]\n",
            "readline-7.0         |  392 KB | : 100% 1.0/1 [00:00<00:00,  6.73it/s]               \n",
            "zlib-1.2.11          |  120 KB | : 100% 1.0/1 [00:00<00:00, 18.48it/s]\n",
            "blosc-1.16.3         |   82 KB | : 100% 1.0/1 [00:00<00:00, 20.29it/s]\n",
            "libgfortran-ng-7.3.0 |  1.3 MB | : 100% 1.0/1 [00:00<00:00,  3.13it/s]               \n",
            "mkl_fft-1.0.15       |  178 KB | : 100% 1.0/1 [00:00<00:00, 13.76it/s]\n",
            "openssl-1.1.1d       |  3.7 MB | : 100% 1.0/1 [00:00<00:00,  1.32it/s]               \n",
            "lz4-c-1.8.1.2        |  158 KB | : 100% 1.0/1 [00:00<00:00, 14.50it/s]\n",
            "ca-certificates-2019 |  132 KB | : 100% 1.0/1 [00:00<00:00, 19.25it/s]\n",
            "tk-8.6.8             |  3.1 MB | : 100% 1.0/1 [00:00<00:00,  1.20it/s]              \n",
            "intel-openmp-2019.4  |  876 KB | : 100% 1.0/1 [00:00<00:00,  5.11it/s]               \n",
            "_libgcc_mutex-0.1    |    3 KB | : 100% 1.0/1 [00:00<00:00, 33.66it/s]\n",
            "blas-1.0             |    6 KB | : 100% 1.0/1 [00:00<00:00, 34.80it/s]\n",
            "certifi-2019.11.28   |  156 KB | : 100% 1.0/1 [00:00<00:00, 14.75it/s]\n",
            "numpy-base-1.18.1    |  5.3 MB | : 100% 1.0/1 [00:01<00:00,  1.44s/it]               \n",
            "ncurses-6.1          |  958 KB | : 100% 1.0/1 [00:01<00:00,  1.08s/it]               \n",
            "python-3.8.1         | 57.8 MB | : 100% 1.0/1 [00:08<00:00,  8.97s/it]               \n",
            "mkl_random-1.1.0     |  398 KB | : 100% 1.0/1 [00:00<00:00,  9.32it/s]\n",
            "setuptools-44.0.0    |  652 KB | : 100% 1.0/1 [00:00<00:00,  4.02it/s]               \n",
            "six-1.13.0           |   27 KB | : 100% 1.0/1 [00:00<00:00, 27.78it/s]\n",
            "ld_impl_linux-64-2.3 |  645 KB | : 100% 1.0/1 [00:00<00:00,  5.56it/s]               \n",
            "zstd-1.3.7           |  887 KB | : 100% 1.0/1 [00:00<00:00,  5.42it/s]              \n",
            "mkl-service-2.3.0    |   68 KB | : 100% 1.0/1 [00:00<00:00, 16.83it/s]\n",
            "numpy-1.18.1         |    5 KB | : 100% 1.0/1 [00:00<00:00, 36.93it/s]\n",
            "mkl-2019.4           | 204.1 MB | : 100% 1.0/1 [00:42<00:00, 42.80s/it]                \n",
            "sqlite-3.30.1        |  1.9 MB | : 100% 1.0/1 [00:00<00:00,  2.61it/s]               \n",
            "libedit-3.1.20181209 |  188 KB | : 100% 1.0/1 [00:00<00:00, 11.71it/s]\n",
            "Preparing transaction: - \b\b\\ \b\b| \b\b/ \b\bdone\n",
            "Verifying transaction: \\ \b\b| \b\b/ \b\b- \b\b\\ \b\b| \b\b/ \b\b- \b\b\\ \b\b| \b\b/ \b\b- \b\b\\ \b\b| \b\b/ \b\b- \b\b\\ \b\b| \b\b/ \b\b- \b\b\\ \b\b| \b\b/ \b\b- \b\b\\ \b\b| \b\b/ \b\b- \b\b\\ \b\b| \b\b/ \b\b- \b\b\\ \b\b| \b\b/ \b\b- \b\b\\ \b\b| \b\b/ \b\b- \b\b\\ \b\b| \b\b/ \b\b- \b\b\\ \b\b| \b\b/ \b\b- \b\b\\ \b\b| \b\b/ \b\b- \b\b\\ \b\b| \b\b/ \b\bdone\n",
            "Executing transaction: \\ \b\b| \b\b/ \b\b- \b\b\\ \b\b| \b\b/ \b\b- \b\b\\ \b\b| \b\b/ \b\b- \b\b\\ \b\b| \b\b/ \b\b- \b\b\\ \b\b| \b\b/ \b\b- \b\b\\ \b\b| \b\b/ \b\b- \b\b\\ \b\b| \b\b/ \b\b- \b\b\\ \b\b| \b\b/ \b\b- \b\b\\ \b\b| \b\b/ \b\b- \b\b\\ \b\b| \b\b/ \b\b- \b\b\\ \b\b| \b\b/ \b\b- \b\b\\ \b\b| \b\b/ \b\b- \b\b\\ \b\b| \b\b/ \b\b- \b\b\\ \b\b| \b\b/ \b\b- \b\b\\ \b\b| \b\b/ \b\b- \b\b\\ \b\b| \b\b/ \b\b- \b\b\\ \b\b| \b\b/ \b\b- \b\b\\ \b\b| \b\b/ \b\b- \b\b\\ \b\b| \b\b/ \b\b- \b\b\\ \b\b| \b\b/ \b\b- \b\b\\ \b\b| \b\b/ \b\b- \b\b\\ \b\b| \b\b/ \b\b- \b\b\\ \b\b| \b\b/ \b\b- \b\b\\ \b\b| \b\b/ \b\b- \b\b\\ \b\b| \b\b/ \b\b- \b\b\\ \b\b| \b\b/ \b\b- \b\b\\ \b\b| \b\b/ \b\b- \b\b\\ \b\b| \b\b/ \b\b- \b\b\\ \b\b| \b\b/ \b\b- \b\b\\ \b\b| \b\b/ \b\b- \b\b\\ \b\b| \b\b/ \b\b- \b\b\\ \b\b| \b\b/ \b\b- \b\b\\ \b\b| \b\b/ \b\b- \b\b\\ \b\b| \b\b/ \b\b- \b\b\\ \b\b| \b\b/ \b\b- \b\b\\ \b\b| \b\b/ \b\b- \b\b\\ \b\b| \b\b/ \b\b- \b\b\\ \b\b| \b\b/ \b\b- \b\b\\ \b\b| \b\b/ \b\b- \b\b\\ \b\b| \b\b/ \b\b- \b\b\\ \b\b| \b\b/ \b\b- \b\b\\ \b\b| \b\b/ \b\b- \b\b\\ \b\b| \b\b/ \b\b- \b\b\\ \b\b| \b\b/ \b\b- \b\b\\ \b\b| \b\b/ \b\b- \b\b\\ \b\b| \b\b/ \b\b- \b\b\\ \b\b| \b\b/ \b\b- \b\b\\ \b\b| \b\b/ \b\b- \b\b\\ \b\b| \b\b/ \b\b- \b\b\\ \b\b| \b\b/ \b\b- \b\b\\ \b\b| \b\b/ \b\b- \b\b\\ \b\b| \b\b/ \b\b- \b\b\\ \b\b| \b\b/ \b\b- \b\b\\ \b\b| \b\b/ \b\b- \b\b\\ \b\b| \b\b/ \b\b- \b\b\\ \b\b| \b\b/ \b\b- \b\b\\ \b\b| \b\b/ \b\b- \b\b\\ \b\b| \b\b/ \b\b- \b\b\\ \b\b| \b\b/ \b\b- \b\b\\ \b\b| \b\b/ \b\b- \b\b\\ \b\b| \b\b/ \b\b- \b\b\\ \b\b| \b\b/ \b\b- \b\b\\ \b\b| \b\b/ \b\b- \b\b\\ \b\b| \b\b/ \b\b- \b\b\\ \b\b| \b\b/ \b\b- \b\b\\ \b\b| \b\b/ \b\b- \b\b\\ \b\b| \b\b/ \b\b- \b\b\\ \b\b| \b\b/ \b\b- \b\b\\ \b\b| \b\b/ \b\b- \b\b\\ \b\b| \b\b/ \b\b- \b\b\\ \b\b| \b\b/ \b\b- \b\b\\ \b\b| \b\b/ \b\b- \b\b\\ \b\b| \b\b/ \b\b- \b\b\\ \b\b| \b\b/ \b\b- \b\b\\ \b\b| \b\b/ \b\b- \b\b\\ \b\b| \b\bdone\n"
          ],
          "name": "stdout"
        }
      ]
    },
    {
      "cell_type": "code",
      "metadata": {
        "id": "pY9NKCMt2U3c",
        "colab_type": "code",
        "colab": {
          "base_uri": "https://localhost:8080/",
          "height": 408
        },
        "outputId": "eee03def-1aa1-4f13-c27d-c4d8a7a8bbc6"
      },
      "source": [
        "!pip install Flask"
      ],
      "execution_count": 4,
      "outputs": [
        {
          "output_type": "stream",
          "text": [
            "Collecting Flask\n",
            "\u001b[?25l  Downloading https://files.pythonhosted.org/packages/9b/93/628509b8d5dc749656a9641f4caf13540e2cdec85276964ff8f43bbb1d3b/Flask-1.1.1-py2.py3-none-any.whl (94kB)\n",
            "\r\u001b[K     |███▌                            | 10kB 20.3MB/s eta 0:00:01\r\u001b[K     |███████                         | 20kB 2.0MB/s eta 0:00:01\r\u001b[K     |██████████▍                     | 30kB 2.3MB/s eta 0:00:01\r\u001b[K     |█████████████▉                  | 40kB 2.1MB/s eta 0:00:01\r\u001b[K     |█████████████████▍              | 51kB 2.4MB/s eta 0:00:01\r\u001b[K     |████████████████████▉           | 61kB 2.9MB/s eta 0:00:01\r\u001b[K     |████████████████████████▎       | 71kB 3.0MB/s eta 0:00:01\r\u001b[K     |███████████████████████████▊    | 81kB 2.8MB/s eta 0:00:01\r\u001b[K     |███████████████████████████████▏| 92kB 3.1MB/s eta 0:00:01\r\u001b[K     |████████████████████████████████| 102kB 2.8MB/s \n",
            "\u001b[?25hCollecting Jinja2>=2.10.1\n",
            "\u001b[?25l  Downloading https://files.pythonhosted.org/packages/65/e0/eb35e762802015cab1ccee04e8a277b03f1d8e53da3ec3106882ec42558b/Jinja2-2.10.3-py2.py3-none-any.whl (125kB)\n",
            "\u001b[K     |████████████████████████████████| 133kB 5.0MB/s \n",
            "\u001b[?25hCollecting Werkzeug>=0.15\n",
            "\u001b[?25l  Downloading https://files.pythonhosted.org/packages/ce/42/3aeda98f96e85fd26180534d36570e4d18108d62ae36f87694b476b83d6f/Werkzeug-0.16.0-py2.py3-none-any.whl (327kB)\n",
            "\u001b[K     |████████████████████████████████| 327kB 5.2MB/s \n",
            "\u001b[?25hCollecting click>=5.1\n",
            "\u001b[?25l  Downloading https://files.pythonhosted.org/packages/fa/37/45185cb5abbc30d7257104c434fe0b07e5a195a6847506c074527aa599ec/Click-7.0-py2.py3-none-any.whl (81kB)\n",
            "\u001b[K     |████████████████████████████████| 81kB 5.4MB/s \n",
            "\u001b[?25hCollecting itsdangerous>=0.24\n",
            "  Downloading https://files.pythonhosted.org/packages/76/ae/44b03b253d6fade317f32c24d100b3b35c2239807046a4c953c7b89fa49e/itsdangerous-1.1.0-py2.py3-none-any.whl\n",
            "Collecting MarkupSafe>=0.23\n",
            "  Downloading https://files.pythonhosted.org/packages/b9/2e/64db92e53b86efccfaea71321f597fa2e1b2bd3853d8ce658568f7a13094/MarkupSafe-1.1.1.tar.gz\n",
            "Building wheels for collected packages: MarkupSafe\n",
            "  Building wheel for MarkupSafe (setup.py) ... \u001b[?25l\u001b[?25hdone\n",
            "  Created wheel for MarkupSafe: filename=MarkupSafe-1.1.1-cp38-cp38-linux_x86_64.whl size=32726 sha256=b57e268b877368fb78e79fc643be36524aff6b215cb4d84cf1951b8fefc030cf\n",
            "  Stored in directory: /root/.cache/pip/wheels/f2/aa/04/0edf07a1b8a5f5f1aed7580fffb69ce8972edc16a505916a77\n",
            "Successfully built MarkupSafe\n",
            "Installing collected packages: MarkupSafe, Jinja2, Werkzeug, click, itsdangerous, Flask\n",
            "Successfully installed Flask-1.1.1 Jinja2-2.10.3 MarkupSafe-1.1.1 Werkzeug-0.16.0 click-7.0 itsdangerous-1.1.0\n"
          ],
          "name": "stdout"
        }
      ]
    },
    {
      "cell_type": "markdown",
      "metadata": {
        "id": "V6AtWauU2aA9",
        "colab_type": "text"
      },
      "source": [
        "Finally back to the original install:"
      ]
    },
    {
      "cell_type": "code",
      "metadata": {
        "id": "mMz1E65-2cyo",
        "colab_type": "code",
        "colab": {
          "base_uri": "https://localhost:8080/",
          "height": 443
        },
        "outputId": "ddc71639-b206-405f-e5ab-69c8e2830cf9"
      },
      "source": [
        "!pip install -U bossphorus --log /content/pip_log.txt"
      ],
      "execution_count": 5,
      "outputs": [
        {
          "output_type": "stream",
          "text": [
            "Collecting bossphorus\n",
            "  Using cached https://files.pythonhosted.org/packages/d1/88/48592ad7cec175af4147205061822f68144660a65e16fa4162408057dffb/bossphorus-0.1.0.tar.gz\n",
            "Collecting pandas\n",
            "\u001b[?25l  Downloading https://files.pythonhosted.org/packages/7b/fd/41698f20fd297cef2dc43a72a8ca42d149eaf7d954f1fb2bd3fc366a658d/pandas-0.25.3-cp38-cp38-manylinux1_x86_64.whl (10.4MB)\n",
            "\u001b[K     |████████████████████████████████| 10.4MB 3.4MB/s \n",
            "\u001b[?25hRequirement already satisfied, skipping upgrade: numpy in /usr/local/lib/python3.8/site-packages (from bossphorus) (1.18.1)\n",
            "Collecting python-dateutil>=2.6.1\n",
            "\u001b[?25l  Downloading https://files.pythonhosted.org/packages/d4/70/d60450c3dd48ef87586924207ae8907090de0b306af2bce5d134d78615cb/python_dateutil-2.8.1-py2.py3-none-any.whl (227kB)\n",
            "\u001b[K     |████████████████████████████████| 235kB 39.0MB/s \n",
            "\u001b[?25hCollecting pytz>=2017.2\n",
            "\u001b[?25l  Downloading https://files.pythonhosted.org/packages/e7/f9/f0b53f88060247251bf481fa6ea62cd0d25bf1b11a87888e53ce5b7c8ad2/pytz-2019.3-py2.py3-none-any.whl (509kB)\n",
            "\u001b[K     |████████████████████████████████| 512kB 46.8MB/s \n",
            "\u001b[?25hRequirement already satisfied, skipping upgrade: six>=1.5 in /usr/local/lib/python3.8/site-packages (from python-dateutil>=2.6.1->pandas->bossphorus) (1.13.0)\n",
            "Building wheels for collected packages: bossphorus\n",
            "  Building wheel for bossphorus (setup.py) ... \u001b[?25l\u001b[?25hdone\n",
            "  Created wheel for bossphorus: filename=bossphorus-0.1.0-cp38-none-any.whl size=6635 sha256=d95ed55cc83c5a274d0edc97811c956f3fe5819825ca09a2b37c94be4689dfbb\n",
            "  Stored in directory: /root/.cache/pip/wheels/79/48/f2/0e9d6a8c5663622f3811af5927803b0a2176e59a7d387add37\n",
            "Successfully built bossphorus\n",
            "Installing collected packages: python-dateutil, pytz, pandas, bossphorus\n",
            "Successfully installed bossphorus-0.1.0 pandas-0.25.3 python-dateutil-2.8.1 pytz-2019.3\n"
          ],
          "name": "stdout"
        },
        {
          "output_type": "display_data",
          "data": {
            "application/vnd.colab-display-data+json": {
              "pip_warning": {
                "packages": [
                  "pandas"
                ]
              }
            }
          },
          "metadata": {
            "tags": []
          }
        }
      ]
    },
    {
      "cell_type": "code",
      "metadata": {
        "id": "ORNFTE3P2kO3",
        "colab_type": "code",
        "colab": {}
      },
      "source": [
        "!cat /content/pip_log.txt"
      ],
      "execution_count": 0,
      "outputs": []
    }
  ]
}