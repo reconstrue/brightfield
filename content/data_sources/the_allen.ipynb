{
 "cells": [
  {
   "cell_type": "markdown",
   "metadata": {
    "tags": [
     "full_width"
    ]
   },
   "source": [
    "# The Allen Institute\n",
    "\n",
    "![](http://reconstrue.com/projects/brightfield_neurons/colormapped_viridis.png)\n",
    "\n",
    "[The Allen Institute](https://alleninstitute.org/) is one of if not\n",
    "THE best brightfield neuron imager on the planet. These folks are\n",
    "processing a few thousand of individual neurons a year. The process is\n",
    "a major component of one of their foundational projects, The Cell\n",
    "Types Database, wherein they are cataloging all (thousands) types of\n",
    "neurons in brains, thousands of types of neurons.\n"
   ]
  }
 ],
 "metadata": {
  "kernelspec": {
   "display_name": "Python 3",
   "language": "python",
   "name": "python3"
  },
  "language_info": {
   "codemirror_mode": {
    "name": "ipython",
    "version": 3
   },
   "file_extension": ".py",
   "mimetype": "text/x-python",
   "name": "python",
   "nbconvert_exporter": "python",
   "pygments_lexer": "ipython3",
   "version": "3.6.7"
  }
 },
 "nbformat": 4,
 "nbformat_minor": 2
}
