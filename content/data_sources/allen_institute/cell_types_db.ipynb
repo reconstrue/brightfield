{
 "cells": [
  {
   "cell_type": "markdown",
   "metadata": {
    "tags": [
     "full_width"
    ]
   },
   "source": [
    "# Cell Types Database\n",
    "\n",
    "![651806289 MinIP](http://reconstrue.com/projects/brightfield_neurons/demo_images/651806289_minip_cubehelix_wide.png)\n",
    "\n",
    "[The Cell Types Database](http://celltypes.brain-map.org/) is one of the basis data products produced by The Allen Institute. They are constructing an altas of type of cells found in brains of mice and humans. There are multiple ways the cells are represented in the database: electrophysiology spike train recordings, simulation models (GLIF or perisomatic), etc. Of particular interest for this project is the morphology data – the skeletons in the `*.swc` files.\n",
    "\n",
    "The Allen has [about 500 SWC files for mouse neurons](http://celltypes.brain-map.org/data?donor__species=Mus%20musculus&nr__reconstruction_type=[full,dendrite-only]). Those ~500 are inside the red circle in the following Venn diagram of all mouse neurons in the Cell Types DB.\n",
    "\n",
    "![](http://reconstrue.com/projects/brightfield_neurons/demo_images/brain_map_venn.png)\n",
    "\n",
    "The main problem from The Allen's perspective is that they would like to have the red circle be a big as the main outer circle. It takes many hours to manually trace skeletons. Yet this would seem like the sort of task that CNNs and friends could automate. This is proving to be nontrivial. The Allen processes hundreds of such cells a year. This is a serious manual labor bottleneck.\n",
    "\n",
    "## Model training data\n",
    "From a model training perspective, the skeleton in an SWC file can be seen as the \"labels\" for \"the labeled training data.\" For training purposes, we're only interested in the subset of cells in the atlas Cell Types Database that have skeletons and a microscopy image stack. The image stack is the input the machine to be built, and the SWC file is the output. Each SWC files represents many hours of manual labor by trained specialists reviewing and editing the SWC file.\n"
   ]
  },
  {
   "cell_type": "code",
   "execution_count": 2,
   "metadata": {
    "tags": [
     "full_width"
    ]
   },
   "outputs": [],
   "source": [
    "!pip install --quiet allensdk"
   ]
  },
  {
   "cell_type": "code",
   "execution_count": 8,
   "metadata": {
    "tags": [
     "full_width"
    ]
   },
   "outputs": [
    {
     "name": "stdout",
     "output_type": "stream",
     "text": [
      "Number of cells with SWC files: 637\n"
     ]
    }
   ],
   "source": [
    "# Query the Cell Types DB for files with skeletons a.k.a. reconstructions\n",
    "\n",
    "# via https://allensdk.readthedocs.io/en/latest/cell_types.html#cell-types-cache\n",
    "from allensdk.core.cell_types_cache import CellTypesCache\n",
    "\n",
    "ctc = CellTypesCache(manifest_file='cell_types/manifest.json')\n",
    "\n",
    "# a list of cell metadata for cells with reconstructions, download if necessary\n",
    "cells = ctc.get_cells(require_reconstruction=True)\n",
    "print('Number of cells with SWC files: %i' % len(cells))"
   ]
  },
  {
   "cell_type": "markdown",
   "metadata": {
    "tags": [
     "full_width"
    ]
   },
   "source": [
    "Some of those are human cells, atop the roughly 500 mouse cells. Humans brains are much bigger than mouse brains. Training should focus on one species. The Allen has many more mouse neurons than human neurons. So, train on mouse neurons only.\n"
   ]
  },
  {
   "cell_type": "code",
   "execution_count": 15,
   "metadata": {
    "tags": [
     "full_width"
    ]
   },
   "outputs": [
    {
     "name": "stdout",
     "output_type": "stream",
     "text": [
      "Number of mouse cells with images and SWC files: 485\n"
     ]
    }
   ],
   "source": [
    "from allensdk.api.queries.cell_types_api import CellTypesApi\n",
    "\n",
    "# We want mouse cells that have images and skeletons, both.\n",
    "# Former is data; latter is training labels a.k.a. gold standards.\n",
    "cells = ctc.get_cells(require_reconstruction=True, require_morphology=True, species=[CellTypesApi.MOUSE])\n",
    "print('Number of mouse cells with images and SWC files: %i' % len(cells))\n"
   ]
  },
  {
   "cell_type": "markdown",
   "metadata": {
    "tags": [
     "full_width"
    ]
   },
   "source": [
    "So, The Allen's Cell Types Database can be used as a training dataset consisting of about 500 samples."
   ]
  },
  {
   "cell_type": "markdown",
   "metadata": {
    "tags": [
     "full_width"
    ]
   },
   "source": [
    "## References\n",
    "[Cell Types DB Physiology and Morphology whitepaper](http://help.brain-map.org/display/celltypes/Physiology+and+Morphology)\n",
    "\n",
    "[cell_types_cache docs](https://allensdk.readthedocs.io/en/latest/allensdk.core.cell_types_cache.html#allensdk.core.cell_types_cache.CellTypesCache.get_cells).\n"
   ]
  }
 ],
 "metadata": {
  "kernelspec": {
   "display_name": "Python 3",
   "language": "python",
   "name": "python3"
  },
  "language_info": {
   "codemirror_mode": {
    "name": "ipython",
    "version": 3
   },
   "file_extension": ".py",
   "mimetype": "text/x-python",
   "name": "python",
   "nbconvert_exporter": "python",
   "pygments_lexer": "ipython3",
   "version": "3.6.7"
  }
 },
 "nbformat": 4,
 "nbformat_minor": 2
}
