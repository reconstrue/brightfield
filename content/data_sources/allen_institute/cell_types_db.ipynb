{
  "nbformat": 4,
  "nbformat_minor": 0,
  "metadata": {
    "kernelspec": {
      "display_name": "Python 3",
      "language": "python",
      "name": "python3"
    },
    "language_info": {
      "codemirror_mode": {
        "name": "ipython",
        "version": 3
      },
      "file_extension": ".py",
      "mimetype": "text/x-python",
      "name": "python",
      "nbconvert_exporter": "python",
      "pygments_lexer": "ipython3",
      "version": "3.6.7"
    },
    "colab": {
      "name": "cell_types_db.ipynb",
      "provenance": [],
      "collapsed_sections": []
    }
  },
  "cells": [
    {
      "cell_type": "markdown",
      "metadata": {
        "tags": [
          "full_width"
        ],
        "id": "sgkIEaR9K9sf",
        "colab_type": "text"
      },
      "source": [
        "# Cell Types Database\n",
        "\n",
        "![651806289 MinIP](http://reconstrue.com/projects/brightfield_neurons/demo_images/651806289_minip_cubehelix_wide.png)\n",
        "\n",
        "[The Cell Types Database](http://celltypes.brain-map.org/) is one of the basis data products produced by The Allen Institute. They are constructing an altas of type of cells found in brains of mice and humans. For a primer with contextual history, state of the art, and goals related to the Cell Types Database, see the Allen Institute's 36 minute talk on the subject, presented at their 2019 Showcase symposium: [Cell Types: From Data to Taxonomy to Product](https://www.youtube.com/watch?v=NCTq7GHakqg).\n",
        "\n",
        "\n",
        "There are multiple ways the cells are represented in the database: electrophysiology spike train recordings, transcriptomics, simulation models (GLIF or perisomatic), etc. Of particular interest for this project is the morphology data – the skeletons in the `*.swc` files.\n",
        "\n",
        "The Allen has [about 500 SWC files for mouse neurons](http://celltypes.brain-map.org/data?donor__species=Mus%20musculus&nr__reconstruction_type=[full,dendrite-only]). Those ~500 are inside the red circle in the following Venn diagram of all mouse neurons in the Cell Types DB.\n",
        "\n",
        "![](http://reconstrue.com/projects/brightfield_neurons/demo_images/brain_map_venn.png)\n",
        "\n",
        "The main problem from The Allen's perspective is that they would like to have the red circle be a big as the main outer circle. It takes many hours to manually trace skeletons. Yet this would seem like the sort of task that CNNs and friends could automate. This is proving to be nontrivial. The Allen processes hundreds of such cells a year. This is a serious manual labor bottleneck.\n",
        "\n",
        "## Model training data\n",
        "From a model training perspective, the skeleton in an SWC file can be seen as the \"labels\" for \"the labeled training data.\" For training purposes, we're only interested in the subset of cells in the atlas Cell Types Database that have skeletons and a microscopy image stack. The image stack is the input the machine to be built, and the SWC file is the output. Each SWC files represents many hours of manual labor by trained specialists reviewing and editing the SWC file.\n"
      ]
    },
    {
      "cell_type": "code",
      "metadata": {
        "tags": [
          "full_width"
        ],
        "id": "HmYD-vICK9si",
        "colab_type": "code",
        "colab": {}
      },
      "source": [
        "!pip install --quiet allensdk"
      ],
      "execution_count": 0,
      "outputs": []
    },
    {
      "cell_type": "code",
      "metadata": {
        "tags": [
          "full_width"
        ],
        "id": "D7KiUaYUK9sm",
        "colab_type": "code",
        "colab": {},
        "outputId": "49530ca6-8a8c-4a07-f4a0-a34e281cd916"
      },
      "source": [
        "# Query the Cell Types DB for files with skeletons a.k.a. reconstructions\n",
        "\n",
        "# via https://allensdk.readthedocs.io/en/latest/cell_types.html#cell-types-cache\n",
        "from allensdk.core.cell_types_cache import CellTypesCache\n",
        "\n",
        "ctc = CellTypesCache(manifest_file='cell_types/manifest.json')\n",
        "\n",
        "# a list of cell metadata for cells with reconstructions, download if necessary\n",
        "cells = ctc.get_cells(require_reconstruction=True)\n",
        "print('Number of cells with SWC files: %i' % len(cells))"
      ],
      "execution_count": 0,
      "outputs": [
        {
          "output_type": "stream",
          "text": [
            "Number of cells with SWC files: 637\n"
          ],
          "name": "stdout"
        }
      ]
    },
    {
      "cell_type": "markdown",
      "metadata": {
        "tags": [
          "full_width"
        ],
        "id": "EawG7LJOK9sq",
        "colab_type": "text"
      },
      "source": [
        "Some of those are human cells, atop the roughly 500 mouse cells. Humans brains are much bigger than mouse brains. Training should focus on one species. The Allen has many more mouse neurons than human neurons. So, train on mouse neurons only.\n"
      ]
    },
    {
      "cell_type": "code",
      "metadata": {
        "tags": [
          "full_width"
        ],
        "id": "kIUTfmJRK9sr",
        "colab_type": "code",
        "colab": {},
        "outputId": "d364132d-9630-4071-8e86-b62f322abe55"
      },
      "source": [
        "from allensdk.api.queries.cell_types_api import CellTypesApi\n",
        "\n",
        "# We want mouse cells that have images and skeletons, both.\n",
        "# Former is data; latter is training labels a.k.a. gold standards.\n",
        "cells = ctc.get_cells(require_reconstruction=True, require_morphology=True, species=[CellTypesApi.MOUSE])\n",
        "print('Number of mouse cells with images and SWC files: %i' % len(cells))\n"
      ],
      "execution_count": 0,
      "outputs": [
        {
          "output_type": "stream",
          "text": [
            "Number of mouse cells with images and SWC files: 485\n"
          ],
          "name": "stdout"
        }
      ]
    },
    {
      "cell_type": "markdown",
      "metadata": {
        "tags": [
          "full_width"
        ],
        "id": "6Zx7RrvNK9su",
        "colab_type": "text"
      },
      "source": [
        "So, The Allen's Cell Types Database can be used as a training dataset consisting of about 500 samples."
      ]
    },
    {
      "cell_type": "markdown",
      "metadata": {
        "tags": [
          "full_width"
        ],
        "id": "qFpp7Ea8K9su",
        "colab_type": "text"
      },
      "source": [
        "## References\n",
        "[Cell Types DB Physiology and Morphology whitepaper](http://help.brain-map.org/display/celltypes/Physiology+and+Morphology)\n",
        "\n",
        "[cell_types_cache docs](https://allensdk.readthedocs.io/en/latest/allensdk.core.cell_types_cache.html#allensdk.core.cell_types_cache.CellTypesCache.get_cells).\n"
      ]
    }
  ]
}