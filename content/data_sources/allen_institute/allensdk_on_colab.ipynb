{
 "cells": [
  {
   "cell_type": "markdown",
   "metadata": {
    "colab_type": "text",
    "id": "1s3hXGvTET_6",
    "tags": [
     "full_width"
    ]
   },
   "source": [
    "# AllenSDK on Colab\n",
    "\n",
    "![](../../images/647289876.minip_colored_turbo.tif.cropped.png)\n",
    "\n",
    "The [Allen Institute for Brain Science](https://www.alleninstitute.org/) (Allen Institute) maintains an SDK, called [`the Allen SDK`](https://github.com/AllenInstitute/AllenSDK), for working with their resources ([data](http://portal.brain-map.org/) and services). This notebook, [`allensdk_on_colab.ipynb`](https://github.com/JohnTigue/colab-utils/blob/master/tools/allensdk_on_colab.ipynb), is focused on nothing except the installation of the Allen SDK on [Colab](https://colab.research.google.com).\n",
    "\n",
    "The following snippets were tested on Colab in new notebooks, for both options available on Colab: Python 2 and Python 3.\n",
    "\n",
    "Herein, `AllenSDK` and `allensdk` refer to the Python package that gets imported, which is distinct from \"the Allen SDK\" which is `AllenSDK` plus further documentation, example code, etcetera that can be found in [the Allen Instutute's repository](https://github.com/AllenInstitute/AllenSDK). \n",
    "\n",
    "## Motivation\n",
    "This notebook was built out while working through – on Colab – the Allen Institute's pedagogical Jupyter notebooks in both the Allen SDK and their [Summer Workshop on the Dynamic Brain repository on GitHub](https://github.com/AllenInstitute/SWDB_2018).\n",
    "\n",
    "The Allen SDK documentation includes example Jupyter notebooks for [how to use `AllenSDK`](https://alleninstitute.github.io/AllenSDK/examples.html).\n",
    "\n",
    "Separately, the Allen Institute holds an annual two week retreat, the Summer Workshop on the Dynamic Brain (SWDB), where they train up promising new neuroscientist on how to do science with the Allen Institute's data and tools. The main pedagogical medium in AllenSDK and SWDB repos is Jupyter notebooks, which can be found on GitHub, [AllenInstitute/AllenSDK](https://github.com/AllenInstitute/AllenSDK/blob/master/doc_template/examples.rst) and [AllenInstitute/SWDB_2018](https://github.com/AllenInstitute/SWDB_2018), respectively.\n",
    "\n",
    "The SWDB notebooks assume that [`AllenSDK` is preinstalled](http://alleninstitute.github.io/AllenSDK/install.html#installation-with-docker-optional). That is, in order to get an arbitrary, as-found-on-GitHub SWDB notebook to work in Colab, a `!pip install allensdk` is required first.\n",
    "\n",
    "On Colab, a single user is provided a single virtual machine (VM) which has a file system. Both the VM and it's file system are transient, with a maximum lifetime of 12 hours (supposedly) but they can get killed off in as little as 60 minutes due to being idle (the only persistant info is the notebook itself, stored on Google Drive not the local file system). But for the lifetime of a given VM, the AllenSDK only need be installed once, after which any notebook can `import allensdk`.\n",
    "\n",
    "(Note: in Colab both Python 2 and Python 3 notebooks can be run. Installing `allensdk` in a Python 2 notebook does not make `import allensdk` work in a Python 3 notebook on the same Colab VM, and vice versa.)\n",
    "\n",
    "This file makes it trivial to repeat (and debug) `AllenSDK` installs as needed – which can be rather frequent on Colab. The `pip install` is just one line of code; the real value here is this text and the collection of debug tools that can come in handy if set-up does not going well.\n",
    "\n",
    "## Install This File as Colab Custom Snippets\n",
    "This notebook reads well enough as one sequential story but the text is really designed to read well as individual snippets, in Colab's code snippet insert dialog.\n",
    "\n",
    "To \"install\" these snippets in your Colab snippets library:\n",
    "* Load this file in Colab\n",
    "* Copy the URL (~`https://colab.research.google.com/...`)\n",
    "* In any Colab page, from the menus select `Tools=>Preferences...` \n",
    "* In `Custom snippet notebook URL`, paste the URL\n",
    "* Press `Save`\n",
    "* Reload\n",
    "\n",
    "Note: Colab does allow for multiple simultaneous `Custom snippet notebook URLs`... sometimes and sometimes not.\n",
    "\n",
    "After the above set-up, it's trivial to insert cells that install and test `AllenSDK`.  For example, load in Colab a SWDB notebook, say [`BrainObservatory.ipynb`](https://github.com/AllenInstitute/SWDB_2018/blob/master/DynamicBrain/BrainObservatory.ipynb), then simply select `Insert => Code snippet...` and search for `allensdk` and the following come up:\n",
    "\n",
    "\n",
    "<img src=\"https://raw.githubusercontent.com/JohnTigue/colab-ing/master/images/allensdk_snippets_in_colab.png\" width = \"300px\" alt=\"AllenSDK snippets in Colab sidebar\" />\n",
    "\n",
    "Select `Install AllenSDK` and run the resulting code cell, after which the Allen notebooks should work on Colab. Your modification will not persist in the GitHub hosted repo's copy of BrainObservatory.ipynb (i.e. the notebook is in playground mode). \n",
    "\n",
    "Ergo, these snippets provide a relatively easy way to play with the Allen pedogogical notebooks on Colab, short of forking the original repo... which is one of the things Colab is really useful for."
   ]
  },
  {
   "cell_type": "markdown",
   "metadata": {
    "colab_type": "text",
    "id": "54XxDX_28Nd-",
    "tags": [
     "full_width"
    ]
   },
   "source": [
    "# Install AllenSDK\n",
    "\n",
    "Installing AllenSDK is pretty trivial and it pulls in a bunch of code not pre-installed on Colab, which does have tons of stuff pre-installed but not the AllenSDK."
   ]
  },
  {
   "cell_type": "code",
   "execution_count": null,
   "metadata": {
    "colab": {},
    "colab_type": "code",
    "id": "_Dl8Nf6h5m3k",
    "tags": [
     "full_width"
    ]
   },
   "outputs": [],
   "source": [
    "# One liner install of AllenSDK\n",
    "!pip install allensdk"
   ]
  },
  {
   "cell_type": "markdown",
   "metadata": {
    "colab_type": "text",
    "id": "thlsIAosHZSF",
    "tags": [
     "full_width"
    ]
   },
   "source": [
    "**TODO:** maybe only `!pip` if detect `AllenSDK` not installed."
   ]
  },
  {
   "cell_type": "code",
   "execution_count": null,
   "metadata": {
    "colab": {},
    "colab_type": "code",
    "id": "8fnhjUil1VF2",
    "tags": [
     "full_width"
    ]
   },
   "outputs": [],
   "source": []
  },
  {
   "cell_type": "markdown",
   "metadata": {
    "colab_type": "text",
    "id": "lRxbaK9FyAyZ",
    "tags": [
     "full_width"
    ]
   },
   "source": [
    "# Uninstall AllenSDK\n"
   ]
  },
  {
   "cell_type": "code",
   "execution_count": null,
   "metadata": {
    "colab": {},
    "colab_type": "code",
    "id": "5F2xvFuJWuk1",
    "tags": [
     "full_width"
    ]
   },
   "outputs": [],
   "source": [
    "# One liner uninstall of AllenSDK, --yes only works with pip >= 7.1.2\n",
    "!pip uninstall --yes allensdk"
   ]
  },
  {
   "cell_type": "markdown",
   "metadata": {
    "colab_type": "text",
    "id": "e2j3qcK9EGbM",
    "tags": [
     "full_width"
    ]
   },
   "source": [
    "Note that if AllenSDK is not installed then `pip uninstall -yes allensdk` will return: \"Skipping allensdk as it is not installed\" as expected.\n",
    "\n",
    "The --yes option works with pip version 7.1.2 and above, and is used here to avoid things hanging at a confirmation dialog (A \"Do ya really wanna uninstall all these dependencies?\" sort of thing.)"
   ]
  },
  {
   "cell_type": "markdown",
   "metadata": {
    "colab_type": "text",
    "id": "tyewTmdDEh1p",
    "tags": [
     "full_width"
    ]
   },
   "source": [
    "Note that the following sort of sequence can be confusing:\n",
    "1. Install `AllenSDK` (`pip install allensdk`)\n",
    "2. Instantiate some class, say, `allensdk.api.queries.rma_api`\n",
    "3. Uninstall `AllenSDK` (`pip uninstall allensdk`)\n",
    "4. Instantiate again `allensdk.api.queries.rma_api`\n",
    "\n",
    "It may come as a surprise that step #4 does not throw a `ModuleNotFoundError`. Point is `AllenSDK` was uninstalled but the Python runtime still had classes already parsed into the runtime. Those classes will persist until a runtime restart. So, if you really want to uninstall `AllenSDK` you might want to consider a runtime restart to really flush out the system. (This issue is true of Python in general; it is not an `AllenSDK` thing.) \n",
    "\n",
    "**TODO:** confirm the above again, with some more testing.\n",
    "\n",
    "**TODO:** Maybe [importlib](https://docs.python.org/3.4/library/importlib.html) can improve this via, say, `invalidate_cache()`."
   ]
  },
  {
   "cell_type": "markdown",
   "metadata": {
    "colab_type": "text",
    "id": "JQ-is79HhEMJ",
    "tags": [
     "full_width"
    ]
   },
   "source": [
    "# Check If AllenSDK Is Installed (Python2)\n",
    "\n",
    "Colab supports both Python 2 and Python 3. Detecting installed packages on Python 2 is not particularly elegant but it does the job."
   ]
  },
  {
   "cell_type": "code",
   "execution_count": null,
   "metadata": {
    "colab": {
     "base_uri": "https://localhost:8080/",
     "height": 35
    },
    "colab_type": "code",
    "id": "9IEOKSKcjUIH",
    "outputId": "f53975e2-9de1-46f9-ed02-b40ec15d3da1",
    "tags": [
     "full_width"
    ]
   },
   "outputs": [
    {
     "name": "stdout",
     "output_type": "stream",
     "text": [
      "AllenSDK is installed. Version: 0.16.2\n"
     ]
    }
   ],
   "source": [
    "# Python2: Check If AllenSDK Is Installed\n",
    "# via https://stackoverflow.com/a/14050282\n",
    "import imp\n",
    "import pkg_resources\n",
    "\n",
    "try:\n",
    "    imp.find_module('allensdk')\n",
    "    found = True\n",
    "except ImportError:\n",
    "    found = False\n",
    "    \n",
    "if found is True:\n",
    "    import allensdk\n",
    "    vers = allensdk.__version__\n",
    "    message = \"AllenSDK is installed. Version: \" + vers\n",
    "    print(message)\n",
    "else:\n",
    "    print(\"AllenSDK is NOT installed\")"
   ]
  },
  {
   "cell_type": "markdown",
   "metadata": {
    "colab_type": "text",
    "id": "fqDxx43KwFvX",
    "tags": [
     "full_width"
    ]
   },
   "source": [
    "# Check If AllenSDK Is Installed (Python3)\n",
    "\n",
    "Colab supports both Python 2 and Python 3. This snippet checks if the AllenSDK is installed on Python 3. This will not work on Python 2."
   ]
  },
  {
   "cell_type": "code",
   "execution_count": null,
   "metadata": {
    "colab": {
     "base_uri": "https://localhost:8080/",
     "height": 35
    },
    "colab_type": "code",
    "id": "YTWGIz4VrEFW",
    "outputId": "aa699467-0fb7-4852-d196-d63d635b35fb",
    "tags": [
     "full_width"
    ]
   },
   "outputs": [
    {
     "name": "stdout",
     "output_type": "stream",
     "text": [
      "allensdk is NOT installed\n"
     ]
    }
   ],
   "source": [
    "# Python3: Check If AllenSDK Is Installed\n",
    "import importlib.util\n",
    "import pkg_resources\n",
    "import sys\n",
    "\n",
    "# See https://stackoverflow.com/a/41815890\n",
    "package_name = \"allensdk\"\n",
    "spec = importlib.util.find_spec(package_name)\n",
    "if spec is None:\n",
    "    print(package_name +\" is NOT installed\")\n",
    "else:\n",
    "    print(\"%s (version: %s) is installed.\" % (package_name, pkg_resources.get_distribution(\"allensdk\").version))"
   ]
  },
  {
   "cell_type": "markdown",
   "metadata": {
    "colab_type": "text",
    "id": "MHheITQ_HvZ2",
    "tags": [
     "full_width"
    ]
   },
   "source": [
    "Note that this can return a false result if `AllenSDK` classes were instantiated followed by a `pip uninstall allensdk`. In that case this test will still report that `allensdk is installed,` until the runtime is restarted.\n",
    "\n",
    "Note, if this Python3 code is run inside Python2 notebook, then the result will be `ImportError: No module named util`.\n",
    "\n",
    "**TODO:** Guess this should be enhanced to first check if the user is using the appropriate test version (python2 vs python3). Or maybe even combine both tests into one. That sounds more elegant and foolproof."
   ]
  },
  {
   "cell_type": "markdown",
   "metadata": {
    "colab_type": "text",
    "id": "FKiFzCrYXKrV",
    "tags": [
     "full_width"
    ]
   },
   "source": [
    "# Probe File System for AllenSDK Files\n",
    "From the output of the above `pip install` is seems packages are getting installed in `/usr/local/lib/python3.6/dist-packages` (or similar for python2) so might be interesting to see what `allensdk` related stuff shows up after a `pip install allensdk`. Two items usually show up, `allensdk` and an `allensdk-0.xy.z.dist-info` where x,y,z are digit charters corresponding to the version number installed. "
   ]
  },
  {
   "cell_type": "code",
   "execution_count": null,
   "metadata": {
    "colab": {},
    "colab_type": "code",
    "id": "d70hYQgfCGuS",
    "tags": [
     "full_width"
    ]
   },
   "outputs": [],
   "source": [
    "# Probe File System for AllenSDK Files\n",
    "import os\n",
    "import platform\n",
    "import site\n",
    "\n",
    "allensdk_was_found = False\n",
    "\n",
    "sites = site.getsitepackages()\n",
    "for a_site_dir_name in sites:\n",
    "    if os.path.isdir(a_site_dir_name):\n",
    "        maybe_allensdk_install_dir = os.path.join(a_site_dir_name, \"allensdk\")\n",
    "        if os.path.isdir(maybe_allensdk_install_dir):\n",
    "            allensdk_was_found = True\n",
    "\n",
    "            a_message = \"AllenSDK looks to be installed in:\\n  \" + maybe_allensdk_install_dir + \"\\n\"\n",
    "            print(a_message)\n",
    "      \n",
    "            import allensdk\n",
    "            vers = allensdk.__version__\n",
    "            vers_message = \"AllenSDK installed version seems to be:\\n  \" + vers + \"\\n\"\n",
    "            print(vers_message)\n",
    "\n",
    "            dist_info_dir_name = \"allensdk-\" + vers + \".dist-info\"\n",
    "            full_path_dist_info_dir_name = os.path.join(a_site_dir_name, dist_info_dir_name) \n",
    "            another_message = \"AllenSDK dist-info directory name:\\n  \" + full_path_dist_info_dir_name + \"\\n\\nContents of dist-info dir:\"\n",
    "            print(another_message)\n",
    "            !ls {full_path_dist_info_dir_name}/\n",
    "if allensdk_was_found == False:\n",
    "    failed_message = \"AllenSDK does not appear to be installed for Python \" + platform.python_version()[0]\n",
    "    print(failed_message)"
   ]
  },
  {
   "cell_type": "markdown",
   "metadata": {
    "colab_type": "text",
    "id": "0pnQY3i9gQRH",
    "tags": [
     "full_width"
    ]
   },
   "source": [
    "# Test AllenSDK Install Sanity\n"
   ]
  },
  {
   "cell_type": "markdown",
   "metadata": {
    "colab_type": "text",
    "id": "Fo23g0aS3vlN",
    "tags": [
     "full_width"
    ]
   },
   "source": [
    "This is a trivial sanity checker to confirm that [`AllenSDK`](https://github.com/AllenInstitute/AllenSDK) is installed and working within a machine. This can be quite useful on Colab (and the like) where VMs are getting tossed away on a regular, frequent schedule. Just run this cell and if `fetched_data` is an array with one more elements and there are no errors, one can assume `AllenSDK` is a happy camper."
   ]
  },
  {
   "cell_type": "markdown",
   "metadata": {
    "colab_type": "text",
    "id": "NwvtJuoxdoYH",
    "tags": [
     "full_width"
    ]
   },
   "source": [
    "If this next cell throws `ModuleNotFoundError` that is an indication that `AllenSDK` is not installed."
   ]
  },
  {
   "cell_type": "code",
   "execution_count": null,
   "metadata": {
    "colab": {
     "base_uri": "https://localhost:8080/",
     "height": 34
    },
    "colab_type": "code",
    "id": "5dnlLM0OgX6j",
    "outputId": "68515d76-7c13-4d48-bafa-29142b70c769",
    "tags": [
     "full_width"
    ]
   },
   "outputs": [
    {
     "name": "stdout",
     "output_type": "stream",
     "text": [
      "Length of fetched_data:  6\n"
     ]
    }
   ],
   "source": [
    "# Perform a simple test query against the Allen Institute public RESTful API\n",
    "#\n",
    "# TODO: Intentionally defeated cache? or complexing issues, are we here?\n",
    "#   Maybe a network test snippet would be good. With random string in the query criteria\n",
    "\n",
    "from allensdk.api.queries.rma_api import RmaApi\n",
    "\n",
    "rma = RmaApi()\n",
    "\n",
    "fetched_data = rma.model_query('Atlas', criteria=\"[name$il'*Human*']\")\n",
    "if len(fetched_data) > 0:\n",
    "  print( \"Length of fetched_data: \", (len(fetched_data)) )\n",
    "else:\n",
    "  print( \"WARNING: Zero data records fetched. Probably a failure.\" )"
   ]
  }
 ],
 "metadata": {
  "colab": {
   "collapsed_sections": [],
   "name": "allensdk_on_colab.ipynb",
   "provenance": [],
   "version": "0.3.2"
  },
  "kernelspec": {
   "display_name": "Python 3",
   "language": "python",
   "name": "python3"
  },
  "language_info": {
   "codemirror_mode": {
    "name": "ipython",
    "version": 3
   },
   "file_extension": ".py",
   "mimetype": "text/x-python",
   "name": "python",
   "nbconvert_exporter": "python",
   "pygments_lexer": "ipython3",
   "version": "3.6.7"
  }
 },
 "nbformat": 4,
 "nbformat_minor": 2
}
