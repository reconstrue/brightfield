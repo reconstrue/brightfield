{
  "nbformat": 4,
  "nbformat_minor": 0,
  "metadata": {
    "kernelspec": {
      "display_name": "Python 3",
      "language": "python",
      "name": "python3"
    },
    "language_info": {
      "codemirror_mode": {
        "name": "ipython",
        "version": 3
      },
      "file_extension": ".py",
      "mimetype": "text/x-python",
      "name": "python",
      "nbconvert_exporter": "python",
      "pygments_lexer": "ipython3",
      "version": "3.6.7"
    },
    "colab": {
      "name": "brightfield.ipynb",
      "provenance": [],
      "collapsed_sections": [],
      "toc_visible": true
    }
  },
  "cells": [
    {
      "cell_type": "markdown",
      "metadata": {
        "tags": [
          "full_width"
        ],
        "id": "iYG3tFGz-9ZX",
        "colab_type": "text"
      },
      "source": [
        "# Brightfield Microscopy\n",
        "\n",
        "![651806289 MinIP](http://reconstrue.com/projects/brightfield_neurons/demo_images/651748297.minip_colored_turbo.tif.cropped.png)\n",
        "\n",
        "Review articles from the previous decade [[Marx 2012](https://www.researchgate.net/publication/221802538_Improved_biocytin_labeling_and_neuronal_3D_reconstruction), [Blackman 2014](https://www.frontiersin.org/articles/10.3389/fnana.2014.00065/full), [Parekh 2014](https://www.ncbi.nlm.nih.gov/pmc/articles/PMC3653619/)] are available as primers.\n",
        "\n",
        "[Neuronal Morphology goes Digital: A Research Hub for Cellular and System Neuroscience](https://www.ncbi.nlm.nih.gov/pmc/articles/PMC3653619/) (2013):\n",
        "\n",
        "> **Biocytin and Biotinamide (Neurobiotin)**   \n",
        "> Biocytin is a small conjugate of biotin and lysine naturally found in eukaryotic organisms. Due to its low molecular weight and biocompatibility, it constitutes a valuable tool in whole-cell or juxtacellular recordings, as it is incorporated into living neurons without perturbing ionic balance or membrane properties. Biocytin stains both axons and dendrites and is not transported trans-neuronally... Both biocytin and biotinamide have high affinity for avidin, and the tissue is processed post-fixation using an avidin-biotin-peroxidase complex followed by DAB reaction...\n",
        "\n",
        "> **Bright field microscopy**   \n",
        "> The majority of dendritic and axonal morphologyreconstructions to date are based on bright field microscopy (Halavi et al., 2012), due to its broad compatibility with histological staining methods. In conventional bright field microscopy, as the name suggests, the tissue background is illuminated by transmitted light, whereas the stained neuron absorbs the light and is visible in dark contrast against the bright background. However, for certain applications or depending on user preference, simple image processing can be employed to invert this contrast (Myatt et al., 2012). Thus this modality should be more precisely referred to as trans-illumination or transmitted light microscopy. Unlike confocal microscopy, which requires fluorescent labels, bright field microscopy can visualize Golgi stain preparations and intracellular labels like biocytin. Even neurons labeled with fluorescent markers can be permanently labeled by DAB reaction and imaged with bright field microscopy. Moreover, the ability to enhance the signal intensity by counterstaining renders bright field microscopy largely unsurpassed for reconstructions of whole axonal arbors up to the very thin (and typically faint) terminals.\n",
        "\n",
        "Brightfield is the simpliest of microscopy modality. Simple and old also means mature and cheap. Coincidentially, brightfield plus biocytin staining is a high quality neuron imaging technique. For these and other reasons brightfield is the most widely adopted.\n",
        "\n",
        "None-the-less, brightfield data is dirty conpared to, say, electron microscopy (EM) data and as such makes it more difficult to apply modern computer vision techniques such as CNNs, U-Net, Flood-Filling Networks (FFNs), etc. That is the topic of this project: how to backport any applicable innovations from other microscopy modalities (e.g. EM or flourescent). How to pre-process brightfield data such that it can be fed to existing software from, say, EM. \n",
        "\n",
        "After surveying any applicable prior art, innovations specific to brightfield are on the cutting edge of the art. As such SOTA will improve over time. This needs to be measured via evalution datasets. All the code in this project has been designed to run on Colab. As such, Colab is used as the standardized execution platform for performing evalutions.\n",
        "\n",
        "\n"
      ]
    },
    {
      "cell_type": "markdown",
      "metadata": {
        "id": "AB9vnEgGCI-a",
        "colab_type": "text"
      },
      "source": [
        "## Nature of the data\n",
        "\n",
        "Brighfield modality data are noisy compared to, say, electron microscopy (EM). For example, in the following images only a small region of the image stack are clear. In the following example depths 72 and 109 are where the images are clearest. Each stack has a different region of focus depending on how the specimen is mounted on the microscope's stage. The stage moves; the camera does not.\n",
        "\n",
        "Pull some sample from throughout a random z-stack at various depths. The bluriness increases smoothly throughout the stack as the foreground object (a biocytin-stained neuron) moves through the scopes field of view. This is an artifact of the stained specimen on the glass slide moving throught the microscope's stationary field of focus.\n",
        "\n",
        "In brightfield microscopy, to get a 3D stack of images the specimen is not serially sectioned (think: deli meat slicer, which is not the case with brighfield). Rather the intack slab of brain is passed through the optical field of focus of the microscope. The stage that the glass slice is mounted on is moved along the Z-axis of the microscope. The 3D \"scanning\" is a series of photos as the specimen is moved.\n",
        "\n",
        "While moving along the Z-axis eventually the stained specimen is too far from the focal region. It looks blurry. This effect is seen at both end of the image stacks in the brightfield data.\n",
        "\n",
        "![](http://reconstrue.com/projects/brightfield_neurons/demo_images/stack_sampled_9.png)\n",
        "\n",
        "A silly analogy would be to think of a biocytin stained neuron as if it were a tourist atop an open-topped bus (the microscope stage). A security CCD (the microscope's camers) takes a series of photos of the neuron as it it driven though the camera's field of view. Much of the footage is very blurry."
      ]
    },
    {
      "cell_type": "markdown",
      "metadata": {
        "id": "9q3xj2GJCLXU",
        "colab_type": "text"
      },
      "source": [
        "## References\n",
        "Example recent historical documents on the state of the field.\n",
        "- 2012: [Improved biocytin labeling and neuronal 3D reconstruction](https://www.researchgate.net/publication/221802538_Improved_biocytin_labeling_and_neuronal_3D_reconstruction) in Nature Protocol 7(2):394-407\n",
        "- 2014: [A comparison of manual neuronal reconstruction from biocytin histology or 2-photon imaging: morphometry and computer modeling](https://www.frontiersin.org/articles/10.3389/fnana.2014.00065/full)\n",
        "  - Front. Neuroanat., 11 July 2014 | https://doi.org/10.3389/fnana.2014.00065\n"
      ]
    }
  ]
}