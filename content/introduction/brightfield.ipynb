{
  "nbformat": 4,
  "nbformat_minor": 0,
  "metadata": {
    "kernelspec": {
      "display_name": "Python 3",
      "language": "python",
      "name": "python3"
    },
    "language_info": {
      "codemirror_mode": {
        "name": "ipython",
        "version": 3
      },
      "file_extension": ".py",
      "mimetype": "text/x-python",
      "name": "python",
      "nbconvert_exporter": "python",
      "pygments_lexer": "ipython3",
      "version": "3.6.7"
    },
    "colab": {
      "name": "brightfield.ipynb",
      "provenance": [],
      "collapsed_sections": [],
      "toc_visible": true
    }
  },
  "cells": [
    {
      "cell_type": "markdown",
      "metadata": {
        "tags": [
          "full_width"
        ],
        "id": "iYG3tFGz-9ZX",
        "colab_type": "text"
      },
      "source": [
        "# Brightfield Microscopy\n",
        "\n",
        "![](https://reconstrue.github.io/brightfield_on_colab/content/images/651748297.minip_colored_turbo.tif.cropped.png)\n",
        "\n",
        "This document provides a brief introduction to brightfield microscopy for those without any background in microscopy (such as the author). One of the goals of this project is to attempt to bridge the communities of life scientists and computers scientists.\n",
        "\n"
      ]
    },
    {
      "cell_type": "markdown",
      "metadata": {
        "id": "PHcPmzfIbbLM",
        "colab_type": "text"
      },
      "source": [
        "## Terminology\n",
        "\n",
        "The topic of this project is imaging individual neurons stained with biocytin and imaged using a brightfield microscope. Defintions of those terms can be found in [Neuronal Morphology goes Digital: A Research Hub for Cellular and System Neuroscience](https://www.ncbi.nlm.nih.gov/pmc/articles/PMC3653619/) (2013)\n",
        "\n",
        "\n",
        "> **Biocytin and Biotinamide (Neurobiotin)**   \n",
        "> Biocytin is a small conjugate of biotin and lysine naturally found in eukaryotic organisms. Due to its low molecular weight and biocompatibility, it constitutes a valuable tool in whole-cell or juxtacellular recordings, as it is incorporated into living neurons without perturbing ionic balance or membrane properties. Biocytin stains both axons and dendrites and is not transported trans-neuronally... Both biocytin and biotinamide have high affinity for avidin, and the tissue is processed post-fixation using an avidin-biotin-peroxidase complex followed by DAB reaction...\n",
        "\n",
        "> **Bright field microscopy**   \n",
        "> The majority of dendritic and axonal morphologyreconstructions to date are based on bright field microscopy (Halavi et al., 2012), due to its broad compatibility with histological staining methods. In conventional bright field microscopy, as the name suggests, the tissue background is illuminated by transmitted light, whereas the stained neuron absorbs the light and is visible in dark contrast against the bright background. However, for certain applications or depending on user preference, simple image processing can be employed to invert this contrast (Myatt et al., 2012). Thus this modality should be more precisely referred to as trans-illumination or transmitted light microscopy. Unlike confocal microscopy, which requires fluorescent labels, bright field microscopy can visualize Golgi stain preparations and intracellular labels like biocytin. Even neurons labeled with fluorescent markers can be permanently labeled by DAB reaction and imaged with bright field microscopy. Moreover, the ability to enhance the signal intensity by counterstaining renders bright field microscopy largely unsurpassed for reconstructions of whole axonal arbors up to the very thin (and typically faint) terminals."
      ]
    },
    {
      "cell_type": "markdown",
      "metadata": {
        "id": "e-9rqsghB3aw",
        "colab_type": "text"
      },
      "source": [
        "## Mechanics and Optics\n",
        "\n",
        "\n",
        "Review articles in peer reviewed journals from the previous decade [[Marx 2012](https://www.researchgate.net/publication/221802538_Improved_biocytin_labeling_and_neuronal_3D_reconstruction), [Blackman 2014](https://www.frontiersin.org/articles/10.3389/fnana.2014.00065/full), [Parekh 2014](https://www.ncbi.nlm.nih.gov/pmc/articles/PMC3653619/)] are available as primers. \n",
        "\n",
        "### Intro videos\n",
        "- [5 min YouTube paper and pen intro to define bright field](https://youtu.be/HqvCWvjidl0?t=45)\n",
        "- [Microscopy: What Can You Learn With a Light Microscope (Ron Vale)\n",
        "](https://www.youtube.com/watch?v=4c5ILWQmqRY) by iBiology covers whole history of microscopy (20 min)\n",
        "- [Microscopy: Resolution in Microscopy (Jeff Lichtman)](https://youtu.be/sTa-Hn_eisw), iBiology, 39 minutes covers the basic mathematics which are in play with microscopy.\n",
        "\n",
        "### Resolution \n",
        "\n",
        "Resolution is restricted by diffraction, see [Microscopy: Diffraction (Jeff Lichtman)](https://www.youtube.com/watch?v=V8JXPqDWFcM) (YouTube, 26 minutes, 2015)\n",
        "\n",
        "Microscopes in neuroscience have high numerical apertures (NA, e.g. 1.4), a fact which impacts the captured data (higher NA means higher resolution images).\n",
        "\n",
        "- [Numerical Aperture](https://www.youtube.com/watch?v=pFSvM8KD5BY) (Microcourses) (YouTube, 5 minutes, 2015)\n",
        "\n",
        "### Point Spread Function\n",
        "\n",
        "A point spread function (PSF) is a convolution kernel, a function. It captures how the light interacts with a point type object in the scope. On brightfield that point will be a small styrene sphere or a nanodot. This is the effect of light wave interacting and defracting around small objects. In this projectx deconvolving with the PSF is the first step in processing the data.\n",
        "\n",
        "- [The Point Spread Function](https://www.zeiss.com/microscopy/us/solutions/reference/basic-microscopy/the-point-spread-function.html) (zeiss.com): Microscopy basics: a solid short primer on Point Spread Function (PSF) out of Zeiss\n",
        "- [The Point Spread Function](https://www.youtube.com/watch?v=Tkc_GOCjx7E&feature=emb_logo) (Microcourses on YouTube, 14 min): Dr. Waters video presentation is quite helpful as well.\n",
        "\n",
        "- [Microscopy: Point Spread Function (Jeff Lichtman)](https://www.youtube.com/watch?v=JQy94K94nL0) (iBiology on YouTube, 29 min): iBiology videos are always excellent.\n"
      ]
    },
    {
      "cell_type": "markdown",
      "metadata": {
        "id": "AB9vnEgGCI-a",
        "colab_type": "text"
      },
      "source": [
        "## Nature of the Data\n",
        "\n",
        "Brighfield modality data are noisy compared to, say, electron microscopy (EM). For example, in the following images only a small region of the image stack are clear. In the following example depths 72 and 109 are where the images are clearest. \n",
        "\n",
        "Each stack has a different region of focus depending on how the specimen is mounted on the microscope's stage and at what depth the biocytin stained neuron is within the specimen on the glass slide. The stage moves; the camera does not.\n",
        "\n",
        "A silly analogy would be to think of a biocytin stained neuron as if it were a tourist atop an open-topped bus (read: a microscope's stage onto which a glass slide specimen is mounted). The bus is driving straight at a security CCD (the microscope's camers). The camera takes a series of photos of the neuron as it it driven though the camera's field of view (read: the stage is moved along the optical axis). As can be seen in the image sampling, much of the image stack is very blurry at the ends because all of the neuron is out of focus.\n",
        "\n",
        "![](http://reconstrue.com/projects/brightfield_neurons/demo_images/stack_sampled_9.png)\n",
        "\n",
        "Pull some sample from throughout a random z-stack at various depths. The bluriness increases smoothly throughout the stack as the foreground object (a biocytin-stained neuron) moves through the scopes field of view. This is an artifact of the stained specimen on the glass slide moving throught the microscope's stationary field of focus.\n",
        "\n",
        "In brightfield microscopy, to get a 3D stack of images the specimen is not serially sectioned (think: deli meat slicer, which is not the case with brighfield). Rather the intack slab of brain is passed through the optical field of focus of the microscope. The stage that the glass slice is mounted on is moved along the Z-axis of the microscope. The 3D \"scanning\" is a series of photos as the specimen is moved.\n",
        "\n",
        "While moving along the Z-axis eventually the stained specimen is too far from the focal region. It looks blurry. This effect is seen at both end of the image stacks in the brightfield data.\n",
        "\n",
        "\n"
      ]
    },
    {
      "cell_type": "markdown",
      "metadata": {
        "id": "mKwGmzrhcHZv",
        "colab_type": "text"
      },
      "source": [
        "## Digital Image Restoration\n",
        "\n",
        "Software can process images after they have been acquired.\n",
        "\n",
        "- The Mexicans are killing it:\n",
        "  - [Direct Imaging of Phase Objects Enables Conventional Deconvolution in Bright Field Light Microscopy](https://journals.plos.org/plosone/article?id=10.1371/journal.pone.0089106) \n",
        "    - Candia & Gutiérrez-Medina \n",
        "    - Published: February 18, 2014\n",
        "    - https://doi.org/10.1371/journal.pone.0089106\n",
        "    - [Citations on scholar.google.com](https://scholar.google.com/scholar?cites=11507704923089787832&as_sdt=5,48&sciodt=0,48&hl=en) \n",
        "\n",
        "  - [Quantitative Image Restoration in Bright Field Optical Microscopy](https://www.sciencedirect.com/science/article/pii/S0006349517309840)\n",
        "    - Gutiérrez-Medina1 & Miranda1\n",
        "    - Published: 4 October 2017\n",
        "    - https://doi.org/10.1016/j.bpj.2017.09.002\n",
        "    - \"quantitative image restoration in bright field (QRBF), a digital image processing method that restores out-of-focus BF images of unstained cells… Altogether, digital restoration emerges as a straightforward alternative to methods designed to generate contrast in BF imaging for quantitative analysis.\"\n",
        "\n",
        "- [Super-resolved 3-D imaging of live cells’ organelles from bright-field photon transmission micrographs](https://www.sciencedirect.com/science/article/abs/pii/S0304399117301183) : \"We believe that this approach may constitute a breakthrough… This method allows us to obtain 3-D reconstructions of cells from bright-field microscopy images that are comparable in quality to those from electron microscopy images.\"\n",
        "\n",
        "- Book: [Computer Optimized Microscopy Methods and Protocols](https://link.springer.com/book/10.1007/978-1-4939-9686-5) \n",
        "  - Editors: Elena Rebollo & Manel Bosch\n",
        "  - \"This volume explores open-source based image analysis techniques to provide a state-of-the-art collection of workflows covering current bioimage analysis problematics, including colocalization, particle counting, 3D structural analysis, ratio imaging and FRET quantification, particle tracking, high-content screening or machine learning. Written in the highly successful Methods in Molecular Biology series format, chapters include introductions to their respective topics, lists of the necessary materials and scripts, step-by-step, readily reproducible image analysis protocols, and tips on troubleshooting and avoiding known pitfalls.  Comprehensive and cutting-edge, Computer Optimized Microscopy: Methods and Protocols is a valuable resource for both novice and experienced researchers who are interested in learning more about this developing field.\"\n",
        "  - Main Steps in Image Processing and Quantification: The Analysis Workflow, Computer Optimized Microscopy pp 3-21\n",
        "  "
      ]
    },
    {
      "cell_type": "markdown",
      "metadata": {
        "id": "9q3xj2GJCLXU",
        "colab_type": "text"
      },
      "source": [
        "## References\n",
        "Example recent historical documents on the state of the field.\n",
        "- 2012: [Improved biocytin labeling and neuronal 3D reconstruction](https://www.researchgate.net/publication/221802538_Improved_biocytin_labeling_and_neuronal_3D_reconstruction) in Nature Protocol 7(2):394-407\n",
        "- 2014: [A comparison of manual neuronal reconstruction from biocytin histology or 2-photon imaging: morphometry and computer modeling](https://www.frontiersin.org/articles/10.3389/fnana.2014.00065/full)\n",
        "  - Front. Neuroanat., 11 July 2014 | https://doi.org/10.3389/fnana.2014.00065\n"
      ]
    }
  ]
}