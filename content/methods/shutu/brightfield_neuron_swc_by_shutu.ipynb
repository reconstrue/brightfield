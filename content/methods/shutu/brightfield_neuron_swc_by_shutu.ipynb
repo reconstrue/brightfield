{
  "nbformat": 4,
  "nbformat_minor": 0,
  "metadata": {
    "colab": {
      "name": "brightfield_neuron_swc_by_shutu.ipynb",
      "provenance": []
    },
    "kernelspec": {
      "name": "python3",
      "display_name": "Python 3"
    }
  },
  "cells": [
    {
      "cell_type": "markdown",
      "metadata": {
        "id": "8aBV9zEcLJHm",
        "colab_type": "text"
      },
      "source": [
        "# ShuTu: generating SWC files from ShuTu's sample data\n",
        "\n",
        "ShuTu was one of the two ways initially experimented for the BioImage 2019 brightfield challenge. This notebook demonstrates how to use ShuTu to generate SWC files, running on Colab. This notebook essentially recreates the SWC generating part of [the ShuTu tutorial](http://personal.psu.edu/dzj2/ShuTu/), on Colab.\n",
        "\n",
        "This notebook uses ShuTu's sample data; it does not use Allen Institute data. This just proves that ShuTu can run on Colab.\n",
        "\n",
        "## ShuTu documentation\n",
        "- [ShuTu home page](http://personal.psu.edu/dzj2/ShuTu/), essentially a well-done short tutorial \n",
        "- [ShuTu pre-print overview on biorxiv](https://www.biorxiv.org/content/10.1101/226548v2.abstract), & [the PDF](https://www.biorxiv.org/content/biorxiv/early/2019/04/19/226548.full.pdf)\n",
        "- [ShuTu on Github](https://github.com/tingzhao/ShuTu), [licensed GPL](https://github.com/tingzhao/ShuTu/blob/master/recipe-shutu/meta.yaml#L41)\n",
        "\n",
        "\n",
        "## ShuTu is two tools in one\n",
        "ShuTu has two separately usable components. \n",
        "\n",
        "1. ShuTu SWC generator is a CLI tool, which makes SWC files.\n",
        "2. ShuTu SWC editor is a cross-platform GUI desktop application.\n",
        "\n",
        "The SWC generator can be deployed on Colab. The SWC editor cannot; the editor is desktop application, not a Jupyter component. \n",
        "\n"
      ]
    },
    {
      "cell_type": "markdown",
      "metadata": {
        "id": "jhHsCK8gtCIF",
        "colab_type": "text"
      },
      "source": [
        "## Install ShuTu\n",
        "\n",
        "This next cell is from the ShuTu tutorial and build.sh, combined into one cell specifically for install and build on Colab."
      ]
    },
    {
      "cell_type": "code",
      "metadata": {
        "id": "GcNph_XntEbt",
        "colab_type": "code",
        "colab": {}
      },
      "source": [
        "%%shell\n",
        "\n",
        "# Get the Linux distro of ShuTu (took less than a minute to DL)\n",
        "wget https://psu.box.com/shared/static/wszpq3r6hwgoxo8eq0vb1k82fwrabycl.zip\n",
        "unzip wszpq3r6hwgoxo8eq0vb1k82fwrabycl.zip # creates ShuTuUbuntu directory\n",
        "\n",
        "#set -m # needed to avoid error: bash: no job control in this shell\n",
        "cd ShuTuUbuntu\n",
        "\n",
        "##########\n",
        "# This next part is from build.sh.\n",
        "#\n",
        "#export PATH=$downloadDir/local/bin:$PATH\n",
        "cd mylib\n",
        "make\n",
        "cd ..\n",
        "make\n"
      ],
      "execution_count": 0,
      "outputs": []
    },
    {
      "cell_type": "markdown",
      "metadata": {
        "id": "sk8u0BW_oOvF",
        "colab_type": "text"
      },
      "source": [
        "## Install test data from ShuTu tutorial\n",
        "\n",
        "The real goal is to use ShuTu on the BioImage challenge dataset from The Allen. But a good sanity checker is to use the granule cell example data from the ShuTu tutorial, as described in section, [\"Image processing and automated reconstruction\"](http://personal.psu.edu/dzj2/ShuTu/), quoting:\n",
        "\n",
        ">Download the image files from [Granule Cell 63X Start](https://psu.box.com/shared/static/f4gs13fs0y9ckrjjo78oid7hkv61k2wq.zip). Unzip in the home directory, which should create a directory granuleCell63XStart.\n",
        "\n",
        "Specifically, the link behind \"Granule Cell 63X Start\" is: [https://psu.box.com/shared/static/f4gs13fs0y9ckrjjo78oid7hkv61k2wq.zip](https://psu.box.com/shared/static/f4gs13fs0y9ckrjjo78oid7hkv61k2wq.zip)\n",
        "\n",
        "It takes about a minute to download the 1.3G granule cell sample data."
      ]
    },
    {
      "cell_type": "code",
      "metadata": {
        "id": "695wc_zkLGoL",
        "colab_type": "code",
        "colab": {}
      },
      "source": [
        "# This is a 1.3GB image stack for use in skeletonization (make a SWC file). \n",
        "# Downloads in less than 2 minutes\n",
        "!wget https://psu.box.com/shared/static/f4gs13fs0y9ckrjjo78oid7hkv61k2wq.zip\n",
        "!unzip f4gs13fs0y9ckrjjo78oid7hkv61k2wq.zip"
      ],
      "execution_count": 0,
      "outputs": []
    },
    {
      "cell_type": "markdown",
      "metadata": {
        "id": "dKxcUQzG2OZu",
        "colab_type": "text"
      },
      "source": [
        "Seems there are 520 *.tif files in the sample data set."
      ]
    },
    {
      "cell_type": "code",
      "metadata": {
        "id": "ZmZKygb72HfG",
        "colab_type": "code",
        "outputId": "d1cab91d-b003-409b-ca41-2ad15c7a7867",
        "colab": {
          "base_uri": "https://localhost:8080/",
          "height": 34
        }
      },
      "source": [
        "!ls /content/granuleCell63XStart/slides/*.tif | wc -l"
      ],
      "execution_count": 0,
      "outputs": [
        {
          "output_type": "stream",
          "text": [
            "520\n"
          ],
          "name": "stdout"
        }
      ]
    },
    {
      "cell_type": "markdown",
      "metadata": {
        "id": "U4yIsV7nt1wM",
        "colab_type": "text"
      },
      "source": [
        "## Generate the sample data's SWC file\n",
        "\n",
        "This next cell assumes the above cell was run, creating the directory `/content/granuleCell63XStart/` used below, containing 4 tiff files that need to be processed.\n",
        "\n",
        "This takes on the order of **ten minutes** (not precisely time yet)"
      ]
    },
    {
      "cell_type": "code",
      "metadata": {
        "id": "YQo676_AhPAh",
        "colab_type": "code",
        "outputId": "934da741-cf0a-4944-fe4b-925fa9979f05",
        "colab": {
          "base_uri": "https://localhost:8080/",
          "height": 1000
        }
      },
      "source": [
        "%%shell\n",
        "cd ShuTuUbuntu\n",
        "\n",
        "mpirun --allow-run-as-root -n 1 ./createTiffStacksZeiss /content/granuleCell63XStart/ granule\n",
        "mpirun --allow-run-as-root -n 1 processImages /content/granuleCell63XStart/\n",
        "mpirun --allow-run-as-root -n 1 ./stitchTiles /content/granuleCell63XStart/\n",
        "mpirun --allow-run-as-root -n 1 ./ShuTuAutoTrace /content/granuleCell63XStart/ ShuTu.Parameters.granule63XTest.dat # creates *.swc file"
      ],
      "execution_count": 0,
      "outputs": [
        {
          "output_type": "stream",
          "text": [
            "Creating tiff stacks from images and xml files in /content/granuleCell63XStart/ with finameCommon=granule\n",
            "Number of tasks= 1 My rank= 0 Running on 8ddec874899d\n",
            "Finding image slices with finames ending with _ORG.tif \n",
            "/content/granuleCell63XStart/\n",
            "filenameSliceCommon=/content/granuleCell63XStart/slides/DG-151213-S1_63X_20percentOverlap_100617_redo_\n",
            "nTiles=4 nz=130 zstart=6 zend=135\n",
            "/content/granuleCell63XStart/granule-1.tif\n",
            "/content/granuleCell63XStart/granule-2.tif\n",
            "/content/granuleCell63XStart/granule-3.tif\n",
            "/content/granuleCell63XStart/granule-4.tif\n",
            "Bright field images\n",
            "Number of tasks= 1 My rank= 0 Running on 8ddec874899d\n",
            "ntiff=4 filenameCommon=/content/granuleCell63XStart/granule-\n",
            "Image dimension=(1040 1388 129) type=0 number of channels=3\n",
            "Color stack. Save projection to /content/granuleCell63XStart/granule-1.Proj.tif\n",
            "Image dimension=(1040 1388 129) type=0 number of channels=3\n",
            "Color stack. Save projection to /content/granuleCell63XStart/granule-4.Proj.tif\n",
            "Image dimension=(1040 1388 129) type=0 number of channels=3\n",
            "Color stack. Save projection to /content/granuleCell63XStart/granule-3.Proj.tif\n",
            "Image dimension=(1040 1388 129) type=0 number of channels=3\n",
            "Color stack. Save projection to /content/granuleCell63XStart/granule-2.Proj.tif\n",
            "Number of tasks= 1 My rank= 0 Running on 8ddec874899d\n",
            "Image dimension=(1040 1388 129) type=0 number of channels=3\n",
            "ntiff=4 filenameCommon=/content/granuleCell63XStart/granule-\n",
            "Parsing /content/granuleCell63XStart/DG-151213-S1_63X_20percentOverlap_100617_redo_info.xml for tile positions \n",
            "numTiles=4 nx=1388 ny=1040 nz=129\n",
            "ID=2 X=1112 Y=0\n",
            "ID=3 X=1112 Y=833\n",
            "ID=4 X=0 Y=833\n",
            "ID=1 X=1 Y=0\n",
            "Computing offsets between 2 3 offset =75.096153 direction =down\n",
            " Stitching /content/granuleCell63XStart/granule-2.tif and /content/granuleCell63XStart/granule-3.tif. Image dimension=(1040 1388 129) type=0 number of channels=3\n",
            "Color stack. Smoothing in each plane... Bright field image. normalize maximum intensity to 1...Image dimension=(1040 1388 129) type=0 number of channels=3\n",
            "Color stack. Smoothing in each plane... Bright field image. normalize maximum intensity to 1...tcmalloc: large alloc 1073741824 bytes == 0x55e85b0ac000 @  0x7f1eaef081e7 0x55e7fe13ffa4 0x55e7fe1387df 0x7f1eae256b97 0x55e7fe136cba\n",
            "Dimensions of overlapping stack nxx=512 nyy=2048 nzz=256. Computing phase correlation. Smoothing planes. Shifts dx=52 dy=-16 dz=0 maxcorr=0.026200. Convert shifts to offsets.\n",
            "dx=833 dy=-16 dz=0 maxCorr=0.026200\n",
            "Computing offsets between 2 1 offset =75.043228 direction =left\n",
            " Stitching /content/granuleCell63XStart/granule-2.tif and /content/granuleCell63XStart/granule-1.tif. Image dimension=(1040 1388 129) type=0 number of channels=3\n",
            "Color stack. Smoothing in each plane... Bright field image. normalize maximum intensity to 1...Image dimension=(1040 1388 129) type=0 number of channels=3\n",
            "Color stack. Smoothing in each plane... Bright field image. normalize maximum intensity to 1...Dimensions of overlapping stack nxx=2048 nyy=512 nzz=256. Computing phase correlation. Smoothing planes. Shifts dx=-21 dy=-72 dz=2 maxcorr=0.015550. Convert shifts to offsets.\n",
            "dx=-21 dy=-1114 dz=2 maxCorr=0.015550\n",
            "Computing offsets between 3 4 offset =75.115273 direction =left\n",
            " Stitching /content/granuleCell63XStart/granule-3.tif and /content/granuleCell63XStart/granule-4.tif. Image dimension=(1040 1388 129) type=0 number of channels=3\n",
            "Color stack. Smoothing in each plane... Bright field image. normalize maximum intensity to 1...Image dimension=(1040 1388 129) type=0 number of channels=3\n",
            "Color stack. Smoothing in each plane... Bright field image. normalize maximum intensity to 1...Dimensions of overlapping stack nxx=2048 nyy=512 nzz=256. Computing phase correlation. Smoothing planes. Shifts dx=-21 dy=-72 dz=2 maxcorr=0.015873. Convert shifts to offsets.\n",
            "dx=-21 dy=-1115 dz=2 maxCorr=0.015873\n",
            "Computing offsets between 4 1 offset =75.096153 direction =up\n",
            " Stitching /content/granuleCell63XStart/granule-4.tif and /content/granuleCell63XStart/granule-1.tif. Image dimension=(1040 1388 129) type=0 number of channels=3\n",
            "Color stack. Smoothing in each plane... Bright field image. normalize maximum intensity to 1...Image dimension=(1040 1388 129) type=0 number of channels=3\n",
            "Color stack. Smoothing in each plane... Bright field image. normalize maximum intensity to 1...Dimensions of overlapping stack nxx=512 nyy=2048 nzz=256. Computing phase correlation. Smoothing planes. Shifts dx=-52 dy=17 dz=0 maxcorr=0.021515. Convert shifts to offsets.\n",
            "dx=-833 dy=17 dz=0 maxCorr=0.021515\n",
            "Connected 2 3\n",
            "Connected 4 1\n",
            "Connected 3 4\n",
            "connect tiles 2 3\n",
            "/content/granuleCell63XStart/stitchRes.2.3.txt\n",
            " 833 -16 0\n",
            "connect tiles 3 4\n",
            "/content/granuleCell63XStart/stitchRes.3.4.txt\n",
            " -21 -1115 2\n",
            "connect tiles 4 1\n",
            "/content/granuleCell63XStart/stitchRes.4.1.txt\n",
            " -833 17 0\n",
            "21 1131 0\n",
            "854 1115 0\n",
            "833 0 2\n",
            "0 17 2\n",
            "Image dimension=(1040 1388 1) type=0 number of channels=3\n",
            "Saving combined projection image to /content/granuleCell63XStart/granule-.flatCombined.tif\n",
            "Saving the coordinates to /content/granuleCell63XStart/granule-.StitchCoord.txt\n",
            "Writing the json file for the reconstruction GUI /content/granuleCell63XStart/granule-.tiles.json\n",
            "granule-\n",
            "Number of tasks= 1 My rank= 0 Running on 8ddec874899d\n",
            "Tracing neuron from tif stacks in /content/granuleCell63XStart/\n",
            "Reading parameters from file ShuTu.Parameters.granule63XTest.dat\n",
            "The important parameters are:\n",
            "1. xyDist\t\t= 0.103 micron\n",
            "2. zDist\t\t= 0.500 micron\n",
            "3. nSplit\t\t=1\n",
            "4. sparse\t\t= 0.100\n",
            "5. levelSetIter\t\t=500\n",
            "6. smallLen\t\t=9 pixel\n",
            "7. zJumpFact\t\t= 5.000\n",
            "8. distFactConn\t\t= 2.000\n",
            "9. minDistConn\t\t=29.126 pixels\n",
            "10. angle\t\t=60.000 degree\n",
            "11. searchMax\t\t=48.544\n",
            "12. factSigmaDD\t\t=20.000\n",
            "13. factExpandConn\t= 1.000\n",
            "14. sigmaSmoothCurve\t= 1.942 pixel\n",
            "15. sigma\t\t= 0.030\n",
            "16. factSigmaThreshold\t= 0.300\n",
            "17. factSigmaThreStrict\t= 2.000\n",
            "18. zOcc\t\t=10 plane\n",
            "19. minNumPointsBr\t=5\n",
            "20. minLenBrIso\t\t=20.000000 micron\n",
            "21. somaSparseThr\t=0.010000\n",
            "22. factSigmaThresholdZ\t= 1.000\n",
            "\n",
            "Seldom changed parameters are:\n",
            "23. maxFracTotPoints\t= 0.500\n",
            "24. zext\t\t=6 plane\n",
            "25. sigmaFilter\t\t= 0.971 pixel\n",
            "26. sigmaBack\t\t=19.417 pixel\n",
            "27. smallArea\t\t=94 pixel^2\n",
            "28. lambdaRatioThr\t= 1.000\n",
            "29. levelSetMu\t\t= 0.100\n",
            "30. factSearchMin\t= 1.200\n",
            "31. minRange\t\t=19 pixel\n",
            "32. minRadius\t\t=2 pixel\n",
            "33. maxRadius\t\t=97 pixel\n",
            "34. factShift\t\t= 2.000\n",
            "35. factAdjustRadius\t= 1.000\n",
            "36. factMarkOccXY\t= 1.500\n",
            "37. somaLengthScale\t=19 pixel\n",
            "38. alphaDistance\t=20.000000\n",
            "39. factSmallDerivZ\t= 0.100\n",
            "40. sigmaSmoothCurveZ\t= 2.000 plane\n",
            "Bright field image. \n",
            "Tracing neurons with filenameCommon = /content/granuleCell63XStart/granule-\n",
            "Reading tile coordinates from /content/granuleCell63XStart/granule-.StitchCoord.txt \n",
            "Number of tiles = 4 tiff stack dimensions=(1040, 1388, 1)\n",
            "Proc rank=0 Loading image from /content/granuleCell63XStart/granule-2.tif\n",
            "Image dimension=(1040 1388 129) type=0 number of channels=3\n",
            "Color stack. Smoothing in each plane... Bright field image. normalize maximum intensity to 1...Creating mask....\n",
            "thrSparse=0.002708 \n",
            "In sparseFieldLevelset...Removing small areas ...\n",
            "thrSpase=0.002708 points in skeleton=26116\n",
            "Getting linked points...\n",
            "tcmalloc: large alloc 1489715200 bytes == 0x563682798000 @  0x7ffbd0e941e7 0x5636218824ae 0x563621864ce3 0x7ffbd01e2b97 0x563621863eba\n",
            "npoints=640\n",
            "tcmalloc: large alloc 1489715200 bytes == 0x56368272a000 @  0x7ffbd0e941e7 0x5636218853f9 0x563621864d59 0x7ffbd01e2b97 0x563621863eba\n",
            "No soma. sqrt(nn)=1 PARAMS.somaLengthScale=19\n",
            "npoints=640\n",
            "Deleting sharp turns (angle <60.000000 degrees) in xy ...\n",
            "Growing from the end points...\n",
            "tcmalloc: large alloc 1489715200 bytes == 0x56368272a000 @  0x7ffbd0e941e7 0x563621888c5d 0x563621864de2 0x7ffbd01e2b97 0x563621863eba\n",
            "add 9 points...add 2 points...add 19 points...add 15 points...add 7 points...add 2 points...add 5 points...add 3 points...add 4 points...add 3 points...add 5 points...add 1 points...Reached max MAXREC, stop. add 20 points...Reached max MAXREC, stop. add 20 points...add 2 points...add 1 points...add 4 points...add 1 points...add 1 points...add 1 points...add 1 points...add 11 points...add 1 points...add 1 points...add 6 points...add 17 points...add 10 points...add 6 points...add 1 points...add 15 points...add 2 points...add 1 points...add 7 points...add 12 points...add 3 points...add 3 points...add 1 points...add 2 points...add 1 points...add 1 points...add 3 points...add 1 points...add 4 points...add 2 points...add 1 points...add 2 points...add 2 points...Reached max MAXREC, stop. add 20 points...add 11 points...add 12 points...add 4 points...add 2 points...add 1 points...add 1 points...add 7 points...add 3 points...Reached max MAXREC, stop. add 20 points...add 5 points...add 1 points...add 14 points...add 2 points...add 1 points...add 1 points...add 1 points...add 1 points...add 10 points...add 1 points...add 1 points...add 2 points...add 1 points...add 1 points...add 14 points...add 7 points...add 7 points...add 2 points...add 1 points...add 7 points...Reached max MAXREC, stop. Reached max MAXREC, stop. add 21 points...add 1 points...add 3 points...add 10 points...add 2 points...Reached max MAXREC, stop. Reached max MAXREC, stop. Reached max MAXREC, stop. add 22 points...add 1 points...add 1 points...add 1 points...add 13 points...Reached max MAXREC, stop. Reached max MAXREC, stop. add 21 points...add 2 points...add 4 points...add 2 points...add 15 points...add 3 points...add 10 points...re-do growth due to reaching recursion limit. add 11 points...add 6 points...add 8 points...add 3 points...Total points added: 563\n",
            "rank=0 npoints=1176\n",
            "Saving linked points to /content/granuleCell63XStart/granule-2.tif.linkedPoints.dat...\n",
            "Proc rank=0 Loading image from /content/granuleCell63XStart/granule-3.tif\n",
            "Image dimension=(1040 1388 129) type=0 number of channels=3\n",
            "Color stack. Smoothing in each plane... Bright field image. normalize maximum intensity to 1...Creating mask....\n",
            "thrSparse=0.003168 \n",
            "In sparseFieldLevelset...Removing small areas ...\n",
            "thrSpase=0.003168 points in skeleton=21181\n",
            "Getting linked points...\n",
            "npoints=544\n",
            "No soma. sqrt(nn)=1 PARAMS.somaLengthScale=19\n",
            "npoints=544\n",
            "Deleting sharp turns (angle <60.000000 degrees) in xy ...\n",
            "Growing from the end points...\n",
            "add 18 points...add 8 points...add 1 points...add 4 points...add 1 points...add 16 points...add 3 points...add 2 points...add 1 points...add 1 points...add 3 points...add 1 points...add 5 points...add 1 points...add 6 points...add 2 points...add 1 points...add 7 points...add 1 points...add 1 points...add 1 points...add 4 points...add 2 points...add 4 points...add 3 points...add 10 points...add 3 points...add 3 points...add 1 points...add 12 points...add 1 points...add 8 points...Reached max MAXREC, stop. Reached max MAXREC, stop. Reached max MAXREC, stop. Reached max MAXREC, stop. add 23 points...add 1 points...add 17 points...add 3 points...add 8 points...add 1 points...add 1 points...add 1 points...add 1 points...add 1 points...add 6 points...add 1 points...add 1 points...add 1 points...add 1 points...add 12 points...add 5 points...add 17 points...add 1 points...add 1 points...add 5 points...add 1 points...add 1 points...add 1 points...add 10 points...add 5 points...add 1 points...add 1 points...Reached max MAXREC, stop. Reached max MAXREC, stop. add 21 points...add 9 points...add 2 points...re-do growth due to reaching recursion limit. Total points added: 295\n",
            "rank=0 npoints=812\n",
            "Saving linked points to /content/granuleCell63XStart/granule-3.tif.linkedPoints.dat...\n",
            "Proc rank=0 Loading image from /content/granuleCell63XStart/granule-4.tif\n",
            "Image dimension=(1040 1388 129) type=0 number of channels=3\n",
            "Color stack. Smoothing in each plane... Bright field image. normalize maximum intensity to 1...Creating mask....\n",
            "thrSparse=0.002787 \n",
            "In sparseFieldLevelset...Removing small areas ...\n",
            "thrSpase=0.002787 points in skeleton=33454\n",
            "Getting linked points...\n",
            "npoints=865\n",
            "No soma. sqrt(nn)=7 PARAMS.somaLengthScale=19\n",
            "npoints=865\n",
            "Deleting sharp turns (angle <60.000000 degrees) in xy ...\n",
            "Growing from the end points...\n",
            "add 2 points...add 2 points...add 2 points...add 1 points...add 1 points...add 5 points...add 2 points...add 2 points...add 3 points...add 1 points...add 3 points...add 2 points...add 3 points...add 4 points...add 1 points...add 4 points...add 2 points...add 2 points...add 2 points...add 2 points...add 1 points...add 1 points...Reached max MAXREC, stop. add 20 points...add 3 points...add 2 points...add 1 points...add 6 points...add 9 points...add 1 points...add 7 points...add 1 points...add 2 points...add 2 points...add 3 points...add 1 points...add 2 points...add 3 points...add 1 points...add 3 points...add 2 points...add 1 points...add 3 points...add 9 points...add 1 points...add 2 points...add 5 points...add 2 points...add 15 points...add 2 points...add 15 points...add 1 points...add 1 points...add 1 points...add 1 points...add 1 points...add 1 points...add 1 points...add 1 points...add 1 points...add 5 points...add 1 points...add 4 points...add 1 points...add 1 points...add 1 points...add 1 points...add 1 points...add 3 points...add 1 points...add 3 points...add 1 points...add 1 points...add 1 points...add 3 points...add 1 points...add 1 points...add 1 points...add 1 points...add 2 points...add 3 points...add 6 points...add 4 points...add 13 points...add 11 points...add 2 points...add 2 points...add 3 points...add 2 points...Reached max MAXREC, stop. add 20 points...add 9 points...add 1 points...add 9 points...re-do growth due to reaching recursion limit. add 2 points...add 1 points...Total points added: 303\n",
            "rank=0 npoints=1155\n",
            "Saving linked points to /content/granuleCell63XStart/granule-4.tif.linkedPoints.dat...\n",
            "Proc rank=0 Loading image from /content/granuleCell63XStart/granule-1.tif\n",
            "Image dimension=(1040 1388 129) type=0 number of channels=3\n",
            "Color stack. Smoothing in each plane... Bright field image. normalize maximum intensity to 1...Creating mask....\n",
            "thrSparse=0.002622 \n",
            "In sparseFieldLevelset...Removing small areas ...\n",
            "thrSpase=0.002622 points in skeleton=44366\n",
            "Getting linked points...\n",
            "npoints=993\n",
            "added =10 soma points npoints=1003\n",
            "Deleting sharp turns (angle <60.000000 degrees) in xy ...\n",
            "Growing from the end points...\n",
            "add 9 points...add 15 points...add 2 points...add 2 points...add 17 points...add 1 points...add 6 points...add 4 points...add 3 points...add 1 points...add 17 points...add 1 points...add 1 points...add 1 points...add 2 points...add 3 points...add 1 points...add 2 points...add 2 points...add 2 points...add 12 points...Reached max MAXREC, stop. Reached max MAXREC, stop. Reached max MAXREC, stop. Reached max MAXREC, stop. add 23 points...add 10 points...add 1 points...Reached max MAXREC, stop. Reached max MAXREC, stop. Reached max MAXREC, stop. add 22 points...add 12 points...add 2 points...add 2 points...add 1 points...add 2 points...add 3 points...add 16 points...add 19 points...add 3 points...add 9 points...add 4 points...Reached max MAXREC, stop. Reached max MAXREC, stop. Reached max MAXREC, stop. Reached max MAXREC, stop. add 23 points...add 5 points...add 2 points...add 2 points...add 1 points...add 4 points...add 1 points...add 2 points...add 3 points...add 2 points...add 2 points...add 1 points...add 2 points...add 4 points...add 5 points...add 3 points...add 2 points...add 4 points...add 1 points...add 9 points...add 1 points...add 1 points...add 8 points...add 2 points...add 1 points...add 2 points...add 2 points...add 2 points...add 1 points...Reached max MAXREC, stop. add 20 points...add 1 points...add 2 points...add 1 points...Reached max MAXREC, stop. add 20 points...Reached max MAXREC, stop. add 20 points...add 4 points...add 7 points...Reached max MAXREC, stop. add 20 points...add 2 points...Reached max MAXREC, stop. Reached max MAXREC, stop. add 21 points...add 5 points...Reached max MAXREC, stop. add 20 points...add 1 points...add 12 points...add 2 points...add 12 points...add 18 points...add 1 points...add 2 points...add 1 points...add 6 points...add 4 points...add 1 points...Reached max MAXREC, stop. add 20 points...add 5 points...add 3 points...add 1 points...add 1 points...add 1 points...add 4 points...add 2 points...add 3 points...add 3 points...add 5 points...add 2 points...add 1 points...add 1 points...add 2 points...add 3 points...add 2 points...add 6 points...add 2 points...add 2 points...add 4 points...add 3 points...add 2 points...add 5 points...re-do growth due to reaching recursion limit. add 2 points...add 9 points...add 7 points...Reached max MAXREC, stop. Reached max MAXREC, stop. add 21 points...Reached max MAXREC, stop. Reached max MAXREC, stop. Reached max MAXREC, stop. add 22 points...add 11 points...add 3 points...Reached max MAXREC, stop. Reached max MAXREC, stop. add 21 points...re-do growth due to reaching recursion limit. add 10 points...add 8 points...Total points added: 731\n",
            "rank=0 npoints=1700\n",
            "Saving linked points to /content/granuleCell63XStart/granule-1.tif.linkedPoints.dat...\n",
            "Reading linked points from /content/granuleCell63XStart/granule-2.tif.linkedPoints.dat...npoints=1176 ns=11728\n",
            "Reading linked points from /content/granuleCell63XStart/granule-3.tif.linkedPoints.dat...npoints=812 ns=8090\n",
            "Reading linked points from /content/granuleCell63XStart/granule-4.tif.linkedPoints.dat...npoints=1155 ns=11492\n",
            "Reading linked points from /content/granuleCell63XStart/granule-1.tif.linkedPoints.dat...npoints=1700 ns=16996\n",
            "Rank=0 Total number of points=4843 linkedPSize=16996\n",
            "Reading linked points from /content/granuleCell63XStart/granule-2.tif.linkedPoints.dat...\n",
            "Image dimension=(1040 1388 129) type=0 number of channels=3\n",
            "Reading linked points from /content/granuleCell63XStart/granule-3.tif.linkedPoints.dat...\n",
            "Image dimension=(1040 1388 129) type=0 number of channels=3\n",
            "Reading linked points from /content/granuleCell63XStart/granule-4.tif.linkedPoints.dat...\n",
            "Image dimension=(1040 1388 129) type=0 number of channels=3\n",
            "Reading linked points from /content/granuleCell63XStart/granule-1.tif.linkedPoints.dat...\n",
            "Image dimension=(1040 1388 129) type=0 number of channels=3\n",
            "Saving linked points to /content/granuleCell63XStart/granule-.linkedPoints.dat...\n",
            "Growing from end points in each tile....\n",
            "For growth, expand npoints by a factor 5 \n",
            "Reading linked points from /content/granuleCell63XStart/granule-.linkedPoints.dat...\n",
            "npointsTot=3108 ns=30964\n",
            "Proc rank=0 Loading image from /content/granuleCell63XStart/granule-2.tif\n",
            "Image dimension=(1040 1388 129) type=0 number of channels=3\n",
            "Color stack. Smoothing in each plane... Bright field image. normalize maximum intensity to 1...Deleting sharp turns (angle <60.000000 degrees) in xy ...\n",
            "Growing from the end points...\n",
            "add 6 points...add 5 points...add 1 points...Total points added: 12\n",
            "Proc rank=0 created 12 points \n",
            "Saving linked points to /content/granuleCell63XStart/granule-.linkedPoints.dat...\n",
            "Reading linked points from /content/granuleCell63XStart/granule-.linkedPoints.dat...\n",
            "npointsTot=3105 ns=30994\n",
            "Proc rank=0 Loading image from /content/granuleCell63XStart/granule-3.tif\n",
            "Image dimension=(1040 1388 129) type=0 number of channels=3\n",
            "Color stack. Smoothing in each plane... Bright field image. normalize maximum intensity to 1...Deleting sharp turns (angle <60.000000 degrees) in xy ...\n",
            "Growing from the end points...\n",
            "add 1 points...add 2 points...add 6 points...add 4 points...add 5 points...add 1 points...add 2 points...add 1 points...add 1 points...add 1 points...add 13 points...Total points added: 37\n",
            "Proc rank=0 created 37 points \n",
            "Saving linked points to /content/granuleCell63XStart/granule-.linkedPoints.dat...\n",
            "Reading linked points from /content/granuleCell63XStart/granule-.linkedPoints.dat...\n",
            "npointsTot=3141 ns=31390\n",
            "Proc rank=0 Loading image from /content/granuleCell63XStart/granule-4.tif\n",
            "Image dimension=(1040 1388 129) type=0 number of channels=3\n",
            "Color stack. Smoothing in each plane... Bright field image. normalize maximum intensity to 1...Deleting sharp turns (angle <60.000000 degrees) in xy ...\n",
            "Growing from the end points...\n",
            "add 2 points...add 1 points...add 4 points...add 1 points...add 3 points...Reached max MAXREC, stop. Reached max MAXREC, stop. Reached max MAXREC, stop. Reached max MAXREC, stop. add 23 points...add 1 points...re-do growth due to reaching recursion limit. Total points added: 35\n",
            "Proc rank=0 created 35 points \n",
            "Saving linked points to /content/granuleCell63XStart/granule-.linkedPoints.dat...\n",
            "Reading linked points from /content/granuleCell63XStart/granule-.linkedPoints.dat...\n",
            "npointsTot=3176 ns=31762\n",
            "Proc rank=0 Loading image from /content/granuleCell63XStart/granule-1.tif\n",
            "Image dimension=(1040 1388 129) type=0 number of channels=3\n",
            "Color stack. Smoothing in each plane... Bright field image. normalize maximum intensity to 1...Deleting sharp turns (angle <60.000000 degrees) in xy ...\n",
            "Growing from the end points...\n",
            "add 2 points...add 1 points...add 1 points...add 1 points...add 4 points...add 2 points...add 2 points...Total points added: 13\n",
            "Proc rank=0 created 13 points \n",
            "Saving linked points to /content/granuleCell63XStart/granule-.linkedPoints.dat...\n",
            "Reading linked points from /content/granuleCell63XStart/granule-.linkedPoints.dat...\n",
            "npointsTot=3189 ns=31906\n",
            "Saving linked points to /content/granuleCell63XStart/granule-.linkedPoints.dat...\n",
            "Reading linked points from /content/granuleCell63XStart/granule-.linkedPoints.dat...\n",
            "npointsTot=3189 ns=31906\n",
            "Saving linked points to /content/granuleCell63XStart/granule-.linkedPoints.dat...\n",
            "Reading linked points from /content/granuleCell63XStart/granule-.linkedPoints.dat...\n",
            "npointsTot=3189 ns=31906\n",
            "For connecting ends, making searchMax and distFactor by a factor of 1.000000\n",
            "Proc rank=0 Loading image from /content/granuleCell63XStart/granule-2.tif\n",
            "Image dimension=(1040 1388 129) type=0 number of channels=3\n",
            "Color stack. Smoothing in each plane... Bright field image. normalize maximum intensity to 1...Connecting ends...\n",
            "Proc rank=0 made 86 connections\n",
            "Proc rank=0 Loading image from /content/granuleCell63XStart/granule-3.tif\n",
            "Image dimension=(1040 1388 129) type=0 number of channels=3\n",
            "Color stack. Smoothing in each plane... Bright field image. normalize maximum intensity to 1...Connecting ends...\n",
            "Proc rank=0 made 34 connections\n",
            "Proc rank=0 Loading image from /content/granuleCell63XStart/granule-4.tif\n",
            "Image dimension=(1040 1388 129) type=0 number of channels=3\n",
            "Color stack. Smoothing in each plane... Bright field image. normalize maximum intensity to 1...Connecting ends...\n",
            "Proc rank=0 made 66 connections\n",
            "Proc rank=0 Loading image from /content/granuleCell63XStart/granule-1.tif\n",
            "Image dimension=(1040 1388 129) type=0 number of channels=3\n",
            "Color stack. Smoothing in each plane... Bright field image. normalize maximum intensity to 1...Connecting ends...\n",
            "Proc rank=0 made 92 connections\n",
            "Saving linked points to /content/granuleCell63XStart/granule-.linkedPoints.dat...\n",
            "Reading linked points from /content/granuleCell63XStart/granule-.linkedPoints.dat...\n",
            "npointsTot=3189 ns=32184\n",
            "Creating swc file...\n",
            "Deleting small branches of length 1...Deleting connections to the deleted points...Deleting points...Deleted 125 points. npoints=3064 \n",
            "Deleting small branches of length 2...Deleting connections to the deleted points...Deleting points...Deleted 36 points. npoints=3028 \n",
            "Deleting small branches of length 3...Deleting connections to the deleted points...Deleting points...Deleted 21 points. npoints=3007 \n",
            "Deleting small branches of length 4...Deleting connections to the deleted points...Deleting points...Deleted 22 points. npoints=2985 \n",
            "Deleting small branches of length 5...Deleting connections to the deleted points...Deleting points...Deleted 11 points. npoints=2974 \n",
            "Removing connected points if the total length is smaller than 20.000000 micron...Deleted 223 noisy points.\n",
            "Delete isolated branches with length smaller than 20.000000 and leaf branch smaller than 5\n",
            "Saving SWC to /content/granuleCell63XStart/granule-.auto.swc\n",
            "There 48 segments 4 trees\n"
          ],
          "name": "stdout"
        },
        {
          "output_type": "execute_result",
          "data": {
            "text/plain": [
              ""
            ]
          },
          "metadata": {
            "tags": []
          },
          "execution_count": 14
        }
      ]
    },
    {
      "cell_type": "markdown",
      "metadata": {
        "id": "IHjrjLDW0eIK",
        "colab_type": "text"
      },
      "source": [
        "The above cell should eventually end in:\n",
        "```\n",
        "Creating swc file...\n",
        "Deleting small branches of length 1...Deleting connections to the deleted points...Deleting points...Deleted 125 points. npoints=3064 \n",
        "Deleting small branches of length 2...Deleting connections to the deleted points...Deleting points...Deleted 36 points. npoints=3028 \n",
        "Deleting small branches of length 3...Deleting connections to the deleted points...Deleting points...Deleted 21 points. npoints=3007 \n",
        "Deleting small branches of length 4...Deleting connections to the deleted points...Deleting points...Deleted 22 points. npoints=2985 \n",
        "Deleting small branches of length 5...Deleting connections to the deleted points...Deleting points...Deleted 11 points. npoints=2974 \n",
        "Removing connected points if the total length is smaller than 20.000000 micron...Deleted 223 noisy points.\n",
        "Delete isolated branches with length smaller than 20.000000 and leaf branch smaller than 5\n",
        "Saving SWC to /content/granuleCell63XStart/granule-.auto.swc\n",
        "There 48 segments 4 trees\n",
        "```"
      ]
    },
    {
      "cell_type": "markdown",
      "metadata": {
        "id": "6a2-PWhS14Gi",
        "colab_type": "text"
      },
      "source": [
        "## Test probe of file system\n",
        "\n"
      ]
    },
    {
      "cell_type": "code",
      "metadata": {
        "id": "kU7VvkDvrDBS",
        "colab_type": "code",
        "outputId": "8e84e920-587e-4b32-b1c7-0bca2b8004a0",
        "colab": {
          "base_uri": "https://localhost:8080/",
          "height": 442
        }
      },
      "source": [
        "!pwd\n",
        "!ls -l\n",
        "!echo ------------\n",
        "!ls /content/granuleCell63XStart/granule*"
      ],
      "execution_count": 0,
      "outputs": [
        {
          "output_type": "stream",
          "text": [
            "/content\n",
            "total 1645644\n",
            "-rw-r--r-- 1 root root 1389488667 Oct 14 00:28 f4gs13fs0y9ckrjjo78oid7hkv61k2wq.zip\n",
            "drwxrwxr-x 3 root root       4096 Oct 14 01:10 granuleCell63XStart\n",
            "drwxr-xr-x 1 root root       4096 Aug 27 16:17 sample_data\n",
            "drwxrwxr-x 5 root root       4096 Oct 14 00:40 ShuTuUbuntu\n",
            "-rw-r--r-- 1 root root  295628950 Oct 14 00:39 wszpq3r6hwgoxo8eq0vb1k82fwrabycl.zip\n",
            "------------\n",
            "/content/granuleCell63XStart/granule-1.Proj.tif\n",
            "/content/granuleCell63XStart/granule-1.tif\n",
            "/content/granuleCell63XStart/granule-1.tif.linkedPoints.dat\n",
            "/content/granuleCell63XStart/granule-2.Proj.tif\n",
            "/content/granuleCell63XStart/granule-2.tif\n",
            "/content/granuleCell63XStart/granule-2.tif.linkedPoints.dat\n",
            "/content/granuleCell63XStart/granule-3.Proj.tif\n",
            "/content/granuleCell63XStart/granule-3.tif\n",
            "/content/granuleCell63XStart/granule-3.tif.linkedPoints.dat\n",
            "/content/granuleCell63XStart/granule-4.Proj.tif\n",
            "/content/granuleCell63XStart/granule-4.tif\n",
            "/content/granuleCell63XStart/granule-4.tif.linkedPoints.dat\n",
            "/content/granuleCell63XStart/granule-.auto.swc\n",
            "/content/granuleCell63XStart/granule-.flatCombined.tif\n",
            "/content/granuleCell63XStart/granule-.linkedPoints.dat\n",
            "/content/granuleCell63XStart/granule-.StitchCoord.txt\n",
            "/content/granuleCell63XStart/granule-.tiles.json\n"
          ],
          "name": "stdout"
        }
      ]
    },
    {
      "cell_type": "code",
      "metadata": {
        "id": "9gYr79JIxr-j",
        "colab_type": "code",
        "colab": {}
      },
      "source": [
        "# Optionally, download that newly created SWC before it gets thrown away after a max of 12 hours.\n",
        "from google.colab import files\n",
        "files.download('/content/granuleCell63XStart/granule-.auto.swc') "
      ],
      "execution_count": 0,
      "outputs": []
    }
  ]
}