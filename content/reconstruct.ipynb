{
  "nbformat": 4,
  "nbformat_minor": 0,
  "metadata": {
    "colab": {
      "name": "reconstruct.ipynb",
      "provenance": [],
      "collapsed_sections": [],
      "toc_visible": true
    },
    "kernelspec": {
      "name": "python3",
      "display_name": "Python 3"
    }
  },
  "cells": [
    {
      "cell_type": "markdown",
      "metadata": {
        "id": "WYzarEVGSXVv",
        "colab_type": "text",
        "tags": [
          "full_width"
        ]
      },
      "source": [
        "# Reconstruct\n",
        "\n",
        "![](http://reconstrue.com/projects/brightfield_neurons/allen_morphology_viz.png)\n",
        "\n",
        "\"Reconstuction\" is the term of art for morphological analysis that reconstructs the structure of imaged neuron. The above image set illustrates the process.\n",
        "\n",
        "1. The MinIP is the input, the field is bright\n",
        "2. The MinIP inverted for contrast with the blue and red to come\n",
        "3. The reconstructed dendrites overlaid in blue\n",
        "5. The reconstructed axon overlaid in red\n",
        "\n",
        "\n",
        "\n"
      ]
    },
    {
      "cell_type": "markdown",
      "metadata": {
        "id": "YQA-LpADce6e",
        "colab_type": "text",
        "tags": [
          "full_width"
        ]
      },
      "source": [
        "## Multiple stained cells\n",
        "In brightfield that is almost always a single neuron. Nonetheless, multiple neurons can be biocytin-stained in the same slice of brain. In such images there is usually little overlap. There is reason to believe that such multi-stained images will be processable via the same algorithms that process single objects. [[*](https://blog.tensorflow.org/2018/05/real-time-human-pose-estimation-in.html)]\n",
        "\n",
        "![](https://1.bp.blogspot.com/-iM-M6F-UfxY/XcCnjy4DFaI/AAAAAAAAAxo/q6XrUeXedrcM6k34_XXhKzlfl0jXLlWkgCLcBGAsYHQ/s320/2b.png)\n"
      ]
    },
    {
      "cell_type": "markdown",
      "metadata": {
        "id": "yPyrVm5uXo9c",
        "colab_type": "text",
        "tags": [
          "full_width"
        ]
      },
      "source": [
        "## Banding in the data\n",
        "On a semi-local level there is a banding in the data. To see an example, crop in on a random cell's soma. (Here Cell Type DB cell 713686035 is used as an example.) Then using `minmax_scale()` stretch that subset of the original intensities to the full potential range of 0 -- 255. Finally, colormap to Turbo. The vertical bands alternating yellow and red are some artifact of the input images which the reconstruction algorithms will need to deal with.\n",
        "\n",
        "\n"
      ]
    },
    {
      "cell_type": "code",
      "metadata": {
        "id": "LPxHgLjnS0N9",
        "colab_type": "code",
        "colab": {},
        "tags": [
          "full_width"
        ]
      },
      "source": [
        "import skimage.io\n",
        "from sklearn.preprocessing import minmax_scale\n",
        "\n",
        "# Download cell 713686035's stack minimum intensity projection (minip)\n",
        "!wget --output-document=minip.tif http://reconstrue.com/projects/brightfield_neurons/demo_images/713686035.minip_original.tif\n",
        "minip_filename = os.path.join(os.getcwd(), 'minip.tif')\n",
        "minip = PIL.Image.open(minip_filename)\n",
        "\n",
        "# How much to crop from each side: ((top, bottom), (left, right))\n",
        "crop_box_for_713686035 = ((2000,2000),(1750,2250))\n",
        "projection_orig = skimage.io.imread(minip_filename)\n",
        "minip_cropped = skimage.util.crop(projection_orig, crop_box_for_713686035)\n",
        "scaled = minmax_scale(minip_cropped) * 255\n",
        "\n",
        "minip_cropped_pil = PIL.Image.fromarray(scaled)\n",
        "minip_cropped_pil.show()"
      ],
      "execution_count": 0,
      "outputs": []
    },
    {
      "cell_type": "markdown",
      "metadata": {
        "id": "RMuSJQT3S5fu",
        "colab_type": "text",
        "tags": [
          "full_width"
        ]
      },
      "source": [
        "<img src=\"http://reconstrue.com/projects/brightfield_neurons/demo_images/banded_data.png\" width=\"100%\"/>\n"
      ]
    },
    {
      "cell_type": "markdown",
      "metadata": {
        "id": "mVJMInaaSQkJ",
        "colab_type": "text",
        "tags": [
          "full_width"
        ]
      },
      "source": [
        "## References\n",
        "\n",
        "Other skeletonization methods:\n",
        "- [TEASAR](http://spin2013.cs.sunysb.edu/~bender/pub/PG2000_teasar.pdf)\n",
        "  - seung-lab: [Python TEASAR Skeletonization for Sparse Labels](https://github.com/seung-lab/skeletonization)\n",
        "  - [TEASAR: simple alg](https://github.com/scikit-image/scikit-image/issues/1621), MIT license\n",
        "  - [Skeletonize.cpp](https://github.com/funkey/imageprocessing/blob/master/Skeletonize.cpp) funkey's C++, MIT\n",
        "- [DeepNeuron: An Open Deep Learning Toolbox for Neuron Tracing](https://www.biorxiv.org/content/10.1101/254318v1.full.pdf)\n",
        "  - Vaa3D, Allen Institute 2018\n"
      ]
    }
  ]
}
