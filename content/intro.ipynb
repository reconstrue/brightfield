{
  "nbformat": 4,
  "nbformat_minor": 0,
  "metadata": {
    "kernelspec": {
      "display_name": "Python 3",
      "language": "python",
      "name": "python3"
    },
    "language_info": {
      "codemirror_mode": {
        "name": "ipython",
        "version": 3
      },
      "file_extension": ".py",
      "mimetype": "text/x-python",
      "name": "python",
      "nbconvert_exporter": "python",
      "pygments_lexer": "ipython3",
      "version": "3.6.7"
    },
    "colab": {
      "name": "intro.ipynb",
      "provenance": [],
      "collapsed_sections": []
    }
  },
  "cells": [
    {
      "cell_type": "markdown",
      "metadata": {
        "tags": [
          "full_width"
        ],
        "id": "v7u2pa5tC6LA",
        "colab_type": "text"
      },
      "source": [
        "# Introduction\n",
        "\n",
        "![](https://reconstrue.github.io/brightfield_on_colab/content/images/minip_four_up.png)\n",
        "\n",
        "In neuroscience microscopy, \"reconstruction\" is a term of art for a digital model\n",
        "of a neuron which is derived from microscopy images.\n",
        "\n",
        "The topic of this research project is the reconstruction of neurons\n",
        "imaged via brightfield microscopy, on [Google's\n",
        "Colab](https://colab.research.google.com/). In the context of\n",
        "neuroscience, the brightfield modality is used to image a neuron\n",
        "internally stained with biocytin, rendering that single neuron\n",
        "floating opaque in a cleared volume of brain. The goal of this\n",
        "software project is to reconstruct the skeleton of the neuron via\n",
        "machine learning (DNNs, CNN, and recurrent variants there of).\n",
        "\n",
        "This research is presented as an Apache 2.0 licensed repository of\n",
        "open source tools,\n",
        "[brightfield_on_colab](https://github.com/reconstrue/brightfield_on_colab).\n",
        "The repository consists of Jupyter notebooks which run on Colab,\n",
        "Google's free Jupyter service such that any interested party can\n",
        "perform the same analysis as discussed herein.\n",
        "\n",
        "## Visualization\n",
        "\n",
        "The analysis pipeline starts with raw images off of a microscope\n",
        "(either from a public repository or from personally uploaded-to-Colab\n",
        "image stacks).  Various web-friendly visualization can be\n",
        "performed. \n",
        "- Image stack navigation\n",
        "  - Static images\n",
        "  - Image pyramids (a la Google Maps)\n",
        "  - Animated GIF\n",
        "  - Stack dive as movie\n",
        "- Minimum Intensity Projections (MinIP)\n",
        "  - Colorization\n",
        "\n",
        "The visualizations also extend into research diagnostic tools for\n",
        "developing computer vision skeletonization algorithms for object\n",
        "recognition of the neurons in the brightfield image stacks.\n",
        "\n",
        "![](images/minip_bw.png)\n",
        "\n",
        "## Skeletonization\n",
        "\n",
        "\"Skeletonization\" is the process of taking the raw \"grayscale\" images of a\n",
        "microscopy volume and constructing a stick figure skeleton\n",
        "representation of a neuron's physical morphology. In terms of data\n",
        "volume, this is a 3D to 1D reduction. The data structure of the\n",
        "skeleton is semantic to the domain and as such is useful as input to\n",
        "futher analysis. The skeletons (as `*.swc` files) represent the output\n",
        "of the inital [ETL](https://en.wikipedia.org/wiki/Extract,_transform,_load)\n",
        "stage of microscopy pipelines.\n",
        "\n",
        "Skeletonization is an open problem in computer vison and neuroscience.\n",
        "It is currently a bottleneck in neuroscience, necessitating long hours\n",
        "of manual image annotation. This would seem to be the sort of thing\n",
        "that recent developments in CNN would perform well at, yet none the\n",
        "less the extremely complex morphologies of neurons are proving\n",
        "difficult to completely recognize.\n",
        "\n",
        "[brightfield_on_colab](https://github.com/reconstrue/brightfield_on_colab)\n",
        "provides diagnostic tools for researchers to evaluate the performance\n",
        "of skeletonization algorithms. Visually, there is a skeleton\n",
        "juxtaposer for comparing two skeletons, say a gold standard skeleton\n",
        "and another one produced via some experimental reconstruction\n",
        "algorithm. Volume unions provide more numerical scores.\n",
        "\n",
        "## Run on Colab\n",
        "\n",
        "The main goal of this project is the development and distribution of\n",
        "software for producing skeletons (SWC files).  The tools are open\n",
        "source, liberally licensed under Apache 2.0, impling there are no\n",
        "patents or other hidden restrictions. The software is intended to be\n",
        "industrial strength for use by industry.\n",
        "\n",
        "The open source tools in\n",
        "[brightfield_on_colab](https://github.com/reconstrue/brightfield_on_colab)\n",
        "are presented as Jupyter notebooks that have been designed for\n",
        "deployment on Colab, where users perform analysis for free. \n",
        "\n",
        "In this site, look for the following button to execute the code in the current page:\n",
        "\n",
        "[![Open In Colab](https://colab.research.google.com/assets/colab-badge.svg)](https://colab.research.google.com/github/googlecolab/colabtools/blob/master/notebooks/colab-github-demo.ipynb)\n",
        "\n",
        "For example, click the `Open in Colab` button at the top of this page and then Run the notebook to get \"Hello, World!\""
      ]
    },
    {
      "cell_type": "code",
      "metadata": {
        "tags": [
          "full_width"
        ],
        "id": "IddvIjLeC6LD",
        "colab_type": "code",
        "colab": {},
        "outputId": "74b3b6c8-fbb7-4105-dd37-52e37c3cb3ed"
      },
      "source": [
        "print(\"Hello, World!\")"
      ],
      "execution_count": 0,
      "outputs": [
        {
          "output_type": "stream",
          "text": [
            "Hello, World!\n"
          ],
          "name": "stdout"
        }
      ]
    },
    {
      "cell_type": "markdown",
      "metadata": {
        "tags": [
          "full_width"
        ],
        "id": "pXOWiw0TC6LI",
        "colab_type": "text"
      },
      "source": [
        "Implementing the algorithms to work on Colab addresses the\n",
        "distribution problem, as well as the provisioning of compute resources\n",
        "to execute the code in the notebooks. \n",
        "\n",
        "In this way, Colab can be used as a lightweight form of reproduceable research: analysis can be worked out on Colab and published on bioarxiv.org, where the PDF could link back to a Jupyter Notebook running on Colab.\n",
        "\n",
        "## Project status\n",
        "\n",
        "See appendix: [Project status](project_status.html)\n"
      ]
    }
  ]
}