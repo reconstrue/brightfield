{
 "cells": [
  {
   "cell_type": "markdown",
   "metadata": {
    "tags": [
     "full_width"
    ]
   },
   "source": [
    "# Visualize\n",
    "\n",
    "![](http://reconstrue.com/projects/brightfield_neurons/demo_images/651748297.minip_colored_turbo.tif.cropped.png)\n",
    "\n",
    "These are visualization techniques which work on Colab. But all the\n",
    "tools are based on popular Python packages which are Jupyter\n",
    "friendly. The point is that although this project goes by the name\n",
    "\"Brightfield on Colab\" all this code works on Jupyter in general.\n",
    "\n",
    "Focusing on Colab is because that's where the developement happens\n",
    "first. Colab is great and it's free, as in free beer (read:\n",
    "free compute). But free price does not mean freedom to do whatever\n",
    "one likes. That is to say, Colab is Google's preconfigured Jupyter\n",
    "editing and executing environment. There are some peculiarities based\n",
    "on the front end and network communications. Google makes sure that\n",
    "popular open source packages can be used on Colab. \n",
    "\n",
    "Those same popular packages can be made to work on other Jupyter\n",
    "deploys. The most difficult one is Colab, though. So, get Colab going\n",
    "first then circle back and mop up any stragglers in other parts of\n",
    "the Jupyter ecosystem Venn diagram.\n",
    "\n"
   ]
  }
 ],
 "metadata": {
  "kernelspec": {
   "display_name": "Python 3",
   "language": "python",
   "name": "python3"
  },
  "language_info": {
   "codemirror_mode": {
    "name": "ipython",
    "version": 3
   },
   "file_extension": ".py",
   "mimetype": "text/x-python",
   "name": "python",
   "nbconvert_exporter": "python",
   "pygments_lexer": "ipython3",
   "version": "3.6.7"
  }
 },
 "nbformat": 4,
 "nbformat_minor": 2
}
