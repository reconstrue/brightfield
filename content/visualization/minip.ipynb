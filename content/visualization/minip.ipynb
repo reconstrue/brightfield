{
 "cells": [
  {
   "cell_type": "markdown",
   "metadata": {},
   "source": [
    "![](../images/651806289_minip_bw.png)\n",
    "\n",
    "The stack projector creates 2D and 1D summaries of raw brightfield image stacks. The main summary artifact is the Minimum Intensity Projections (MinIP). An example 1D summary is would be blur vs depth chart.\n",
    "\n",
    "As of 2020-02-02 the stack projector is a work in progress and as such has not been merged to the master branch of the code repository. (The main branch is also used to generate the web pages on reconstrue.com.)\n",
    "\n",
    "During construction, the work in progress code can non-the-less be seen on Colab: [stack_projector.ipynb](https://colab.research.google.com/drive/1xYdecZis9k62LcowOvc3XT12-PSc9sWs#scrollTo=ElSxX1LaB8Ay)."
   ]
  }
 ],
 "metadata": {
  "kernelspec": {
   "display_name": "Python 3",
   "language": "python",
   "name": "python3"
  },
  "language_info": {
   "codemirror_mode": {
    "name": "ipython",
    "version": 3
   },
   "file_extension": ".py",
   "mimetype": "text/x-python",
   "name": "python",
   "nbconvert_exporter": "python",
   "pygments_lexer": "ipython3",
   "version": "3.6.7"
  }
 },
 "nbformat": 4,
 "nbformat_minor": 2
}
