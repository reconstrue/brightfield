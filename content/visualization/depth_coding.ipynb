{
 "cells": [
  {
   "cell_type": "markdown",
   "metadata": {},
   "source": [
    "# Depth coding\n",
    "\n",
    "2020-01-25: This is under development and is being tracked as [Issue #32](https://github.com/reconstrue/brightfield_on_colab/issues/32), which given the existing codebase is easy picking.\n",
    "\n",
    "Depth coding is a 2D projection visualization of a 3D volume. In the brightfield modality, the data is \"grayscale\" i.e. each original voxel is single channel (the \"intensity\") rather than three channel color values. In the case of the Allen Institute's data, the intensity values are 8-bit i.e. they range from 0 to 255. Imaging neurons via biocytin staining means the stained neuron is opoque i.e. in-neuron voxels have intensities which are low, while the \"field\" is bright i.e. the intensities of the voxels have high values. Due to this, the valuable project is is the Minimal Intensity Projection (the MinIP) rather than, say, the Maximum Intensity Projection. Ergo, depth coding in brightfield means mapping the depth to a color along a rainbow while running the MinIP algorithm.\n",
    "\n",
    "\n",
    "[ImageJ has a depth coding plug-in](https://imagej.net/Z-functions). The example micrography is not brightfield but it illustrates what depth coding looks like. The input would look like:\n",
    "\n",
    "![](https://imagej.net/_images/5/5e/Z_coded_stack_original.png)\n",
    "\n",
    "Z coding the depth looks like:\n",
    "\n",
    "![](https://imagej.net/_images/e/eb/Z_coded_stack_colored.png)\n",
    "\n",
    "Finally, the Maximum Intensity Projections of that looks like:\n",
    "\n",
    "![](https://imagej.net/_images/4/46/Depth_code_max.png)\n",
    "\n",
    "Note: this example is from a fluorescent modality wherein the maximum intensity is collected; brightfield collects the minimum intensities per Z column.\n",
    "\n",
    "\n"
   ]
  }
 ],
 "metadata": {
  "kernelspec": {
   "display_name": "Python 3",
   "language": "python",
   "name": "python3"
  },
  "language_info": {
   "codemirror_mode": {
    "name": "ipython",
    "version": 3
   },
   "file_extension": ".py",
   "mimetype": "text/x-python",
   "name": "python",
   "nbconvert_exporter": "python",
   "pygments_lexer": "ipython3",
   "version": "3.6.7"
  }
 },
 "nbformat": 4,
 "nbformat_minor": 2
}
