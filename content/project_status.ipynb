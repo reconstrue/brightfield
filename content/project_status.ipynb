{
  "nbformat": 4,
  "nbformat_minor": 0,
  "metadata": {
    "colab": {
      "name": "project_status.ipynb",
      "provenance": []
    },
    "kernelspec": {
      "name": "python3",
      "display_name": "Python 3"
    }
  },
  "cells": [
    {
      "cell_type": "markdown",
      "metadata": {
        "id": "PTq0PF7mCxm-",
        "colab_type": "text"
      },
      "source": [
        "# Project Status\n",
        "For full details see [the GitHub projects](https://github.com/reconstrue/brightfield_neuron_reconstruction/projects), especially:\n",
        "- [Colab as main deploy target](https://github.com/reconstrue/brightfield_neuron_reconstruction/projects/1)\n",
        "- [Reconstruction methods\n",
        "](https://github.com/reconstrue/brightfield_neuron_reconstruction/projects/5)\n",
        "\n",
        "# <img src=\"http://reconstrue.com/assets/images/reconstrue_logo_brandmark.svg\" width=\"42px\" align=\"top\" /> **Reconstrue**\n",
        "\n",
        "This code is licensed by Reconstrue under the Apache 2.0 License.\n",
        "\n",
        "For more context see the project's main notebook on Colab, [brightfield neuron reconstruction challenge.ipynb](https://colab.research.google.com/drive/1qvwT-SxHpZSLQ88VeIOkR296pbZfQqTK).\n"
      ]
    },
    {
      "cell_type": "markdown",
      "metadata": {
        "id": "74p_szyZDhSK",
        "colab_type": "text"
      },
      "source": [
        "## Status as of Mon, 2019-12-01:\n",
        "- [x] [intro doc](https://colab.research.google.com/drive/1qvwT-SxHpZSLQ88VeIOkR296pbZfQqTK#scrollTo=MCjVCNWt5zcP): sufficiently readable\n",
        "- [x] Dataset exploration:\n",
        "  - On file level, [dataset_manifest.ipynb](https://colab.research.google.com/drive/1_zv9mgrKVCMa5jTnN1CADZFRi3UES6_P#scrollTo=akBdiF6snGGo) \n",
        "  - On image level, [initial_dataset_visualization.ipynb](https://colab.research.google.com/drive/1ZxzDwD1UdYqhuTxckPLiOUYHin0MZmFQ#scrollTo=TaREcuFG6SSQ)\n",
        "- [ ] Method #1: ShuTu reconstruction \n",
        "  - [x] Show working on Colab \n",
        "  - [x] Make SWC from ShuTu's demo data\n",
        "  - [ ] Make SWC form Allen dataset \n",
        "- [ ] Method #2: U-Net reconstruction: only researched\n",
        "  - [ ] CPU deploy \n",
        "  - [ ] GPU deploy\n",
        "- [ ] Summary juxtaposer: not forked out yet but code is ~75% completed\n",
        "- [ ] Judge's Google Form and Google Sheet: not started\n"
      ]
    }
  ]
}