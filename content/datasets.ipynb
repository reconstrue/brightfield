{
 "cells": [
  {
   "cell_type": "markdown",
   "metadata": {
    "tags": [
     "full_width"
    ]
   },
   "source": [
    "# Datasets\n",
    "\n",
    "![](images/651806289_minip_turbo_banner.png)\n",
    "\n",
    "In this projects datasets are image stacks off of a brightfield microscopes. That part is always the same. Training datasets though\n",
    "additionally come with corresponding skeletons, as `*.swc` files. In the context of model training, the SWC skeletons are the labels for\n",
    "the data, which is the micrographs.\n",
    "\n",
    "![Sharkview](images/sharkviewer.png)\n",
    "\n",
    "[Example SWC of Janelia's Sharkviewer](https://www.janelia.org/sharkviewer)\n",
    "\n",
    "Sample datasets have been exercised from:\n",
    "- Allen Institute\n",
    "- ShuTu\n",
    "\n",
    "The goal it to also enable folks to upload (or link to) their own brightfield image stacks and on Colab generate SWC files (read: the inference phase of the neuron detector model's lifecycle). Here lies all manner of lame ETL data wrangling to be done around weak data standards. "
   ]
  },
  {
   "cell_type": "markdown",
   "metadata": {},
   "source": [
    "The images might be rectilinear as in the case of data from the Allen Institute. Or the images might be the result of stitching which is not rectilinear. (The Allen's data is stitched, but it is also rectilinear as can be seen by subtle lighting banding artifacts in some images.) The following virtual slide stitching image was produced by ShuTu.\n",
    "\n",
    "![(c) ShuTu](images/shutu_stitched.jpg)"
   ]
  }
 ],
 "metadata": {
  "kernelspec": {
   "display_name": "Python 3",
   "language": "python",
   "name": "python3"
  },
  "language_info": {
   "codemirror_mode": {
    "name": "ipython",
    "version": 3
   },
   "file_extension": ".py",
   "mimetype": "text/x-python",
   "name": "python",
   "nbconvert_exporter": "python",
   "pygments_lexer": "ipython3",
   "version": "3.6.7"
  }
 },
 "nbformat": 4,
 "nbformat_minor": 2
}
