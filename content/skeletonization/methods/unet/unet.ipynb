{
  "nbformat": 4,
  "nbformat_minor": 0,
  "metadata": {
    "colab": {
      "name": "unet.ipynb",
      "provenance": [],
      "collapsed_sections": []
    },
    "kernelspec": {
      "name": "python3",
      "display_name": "Python 3"
    }
  },
  "cells": [
    {
      "cell_type": "markdown",
      "metadata": {
        "id": "TquB4dQcgBrA",
        "colab_type": "text"
      },
      "source": [
        "# U-Net\n",
        "\n",
        "![](https://reconstrue.github.io/brightfield_on_colab/content/images/651806289_minip_turbo_banner.png)\n",
        "\n",
        "U-Net is pretty much the go-to model architecture for biomedical image segmentation. Yet stock U-Net has not yet been shown to be particularly effective when applied to images of neurons. Given U-Net's performance on retinopathy, it would seem promising.\n",
        "\n",
        "![](http://reconstrue.com/images/rnn_unet_retina.png)\n",
        "\n",
        "On the other hand, recurrent variants might well be a fruitful avenue of research. For example, there is a 2018 pre-print[<sup>1<sip>](https://arxiv.org/pdf/1802.06955.pdf) which seems promising. The recurrent aspect allows the model to maintain an internal memory/state about remote areas of a given neuron. Neurons are very, very long compared to other cells. The recurrence can span such distances. In the pre-print recurrent U-Net is applied to retinas.\n"
      ]
    },
    {
      "cell_type": "markdown",
      "metadata": {
        "id": "23T4xlHtu2NO",
        "colab_type": "text"
      },
      "source": [
        "## 2D and 3D\n",
        "\n",
        "![https://mc.ai/understanding-nuclei-segmentation-using-u-net/](https://miro.medium.com/max/1000/1*MKQRRlLjULoS8Ef4ZSNlfA.png)\n",
        "\n",
        "The most obvious type of architecture would be a 3D model since the input data is volumetric. Nonetheless, curiously enough there are already tools that can take a 2D tracing of a neuron and project it to 3D [[*](https://www.nature.com/articles/ncomms5342)]:\n",
        "\n",
        ">VF includes a family of 3D-WYSIWYG (‘what you see in 2D is what you get in 3D’ computer algorithms that map users’ inputs in the 2D plane of a computer screen to the 3D locations of biological entities (for example, cells, neurons or microtubules) in the volumetric space of a 3D image stack. \n",
        "\n",
        "So, if a minimum intensity projection were fed to a 2D U-Net and successfully segmented neuron versus background, then the output mask could be fed to the VF software. Maybe. \n",
        "\n",
        "Nonetheless, it seemed like a good idea to to explore a 2D U-Net first before a 3D even if it is not the final solution. Certainly 2D is simpler."
      ]
    },
    {
      "cell_type": "markdown",
      "metadata": {
        "id": "1bb9hgH_hH4z",
        "colab_type": "text"
      },
      "source": [
        "## Test\n",
        "    \n",
        "This is text with a [^1] rando foot note\n",
        "    \n",
        "[^1]: Text must start in column 1. <a href=\"http://tigue.com\">Tigue</a>\n"
      ]
    },
    {
      "cell_type": "markdown",
      "metadata": {
        "id": "xJltNPErhCRZ",
        "colab_type": "text"
      },
      "source": [
        "## References\n",
        "- [U-Net: Convolutional Networks for Biomedical Image Segmentation](https://lmb.informatik.uni-freiburg.de/people/ronneber/u-net/)\n",
        "- Recurrent\n",
        "  - [Recurrent U-Net for Resource-Constrained Segmentation](https://arxiv.org/pdf/1906.04913.pdf)\n",
        "    - (Summer-2019 pre-print out of China)\n",
        "    - This sort of model archetype might have enough smarts to tackle\n",
        "      computer viz object recognition of neurons. Very complex\n",
        "      structures, very repetitive though. One might even say recurrent.\n",
        "  - [Recurrent Residual Convolutional Neural Network based on U-Net (R2U-Net) for Medical Image Segmentation](https://arxiv.org/pdf/1802.06955.pdf)\n",
        "\n"
      ]
    }
  ]
}