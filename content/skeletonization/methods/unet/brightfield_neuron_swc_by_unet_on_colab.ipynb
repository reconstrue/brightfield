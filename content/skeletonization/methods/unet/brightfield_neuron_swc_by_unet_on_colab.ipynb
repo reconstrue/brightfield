{
  "nbformat": 4,
  "nbformat_minor": 0,
  "metadata": {
    "colab": {
      "name": "brightfield_neuron_swc_by_unet_on_colab.ipynb",
      "provenance": []
    },
    "kernelspec": {
      "name": "python3",
      "display_name": "Python 3"
    }
  },
  "cells": [
    {
      "cell_type": "markdown",
      "metadata": {
        "id": "TsepXS09_0Qs",
        "colab_type": "text"
      },
      "source": [
        "# U-Net neuron skeletonization on Colab\n",
        "\n",
        "This notebooks demonstrates how to download a brightfield microscopy image stack from The Allen Instititue and feed the stack to U-Net based image skeletonization software, producing a new SWC file.\n",
        "\n",
        "For context, including how to view the SWC skeleton and compare it to a manually generated \"gold standard\" skeleton, see [rightfield neuron reconstruction challenge](https://colab.research.google.com/drive/1qvwT-SxHpZSLQ88VeIOkR296pbZfQqTK#scrollTo=UHFoENqqYV65).\n"
      ]
    },
    {
      "cell_type": "code",
      "metadata": {
        "id": "RcwHDUmG_vzc",
        "colab_type": "code",
        "colab": {}
      },
      "source": [
        ""
      ],
      "execution_count": 0,
      "outputs": []
    }
  ]
}