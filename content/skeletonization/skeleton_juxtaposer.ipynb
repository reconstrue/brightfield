{
 "cells": [
  {
   "cell_type": "markdown",
   "metadata": {
    "colab_type": "text",
    "id": "5hADTS5ZIOED"
   },
   "source": [
    "# Skeleton Juxtaposer\n",
    "\n",
    "![](../images/651806289_swc_overlaid_allen_styled.png)\n",
    "\n",
    "**2019-11-08 see [initial_dataset_visualization.ipynb](https://colab.research.google.com/drive/1ZxzDwD1UdYqhuTxckPLiOUYHin0MZmFQ#scrollTo=uYssqpx4qsIo) for the latest working code.**\n",
    "\n",
    "Goal: Provide some Jupyter notebook based UI for evaluating how a generated SWC skeleton file compares to a gold standard skeleton for a given neuron image stack. I.e. this is the dashboard for someone actually evaluating challenge results.\n",
    "\n",
    "This notebook will not make SWC files, it simply renders pre-generated SWCs. This should be the main UI tool for evaluation. The SWC generation notebooks will only have sanity check 2D project plots. Comparison UI happens here. \n",
    "\n",
    "For more on the project's context, see [rightfield neuron reconstruction challenge](https://colab.research.google.com/drive/1qvwT-SxHpZSLQ88VeIOkR296pbZfQqTK#scrollTo=UHFoENqqYV65).\n",
    "\n",
    "\n",
    "## Status\n",
    "Colab can be limiting in what UI is allowed, so this notebook is the point for collecting those limitations. Binder is much freer; that will be a separate notebook, after Colab is worked out first.\n",
    "\n",
    "- 2019-11-08\n",
    "  - Note some of this is already in [initial_dataset_visualization.ipynb](https://colab.research.google.com/drive/1ZxzDwD1UdYqhuTxckPLiOUYHin0MZmFQ#scrollTo=uYssqpx4qsIo) so this notebook is really just a break out of the skeleton-atop-MinIP code to a separate tool.\n",
    "- 2019-10-13 \n",
    "  - started testing Colab-friendly UI tools for SWC viewing\n",
    "- 2019-10-12:\n",
    "  - Spun up this file, with some notes\n",
    "\n",
    "## UI inspired by paper handout from challenge meeting\n",
    "Minimally, the evalution viewer notebook should essentially repreduce the paper handout from the evalution meeting of 2019-10-04. It should be a stand alone tool which simply loads an image stack and 2 SWC files.\n",
    "\n",
    "Basically, this notebook should show 5 images side-by-side, horizontally inline:\n",
    "\n",
    "1. The original brightfield \"cover image\"\n",
    "2. Gold standard SWC front view\n",
    "3. Gold standard SWC side view\n",
    "4. Generated SWC front view\n",
    "5. Generated SWC size view\n",
    "\n",
    "Note that the above initial solution is **not interactive at all**; it is very much inspired by the paper handout (it also minimizes the required features for an initial deliverable; hopefully, an interactive version will come soon after the initial drop, dunno.)\n",
    "\n",
    "Due to the limits of Colab (only so much time (12 hours), memory, and file system is given to the free tier) the Colab deploy of the challenge code will only process a single neuron image stack at a time. \n",
    "\n",
    "This tool should just show one neuron image stack and one reconstruction on a page (two reconstructions actually: the gold standard and a given second generated SWC reconstruction). \n",
    "\n",
    "Demonstrating how to process just one neuron is sufficient for folks to figure out how to repeat for all neurons in the dataset. (Might even get to a drop down for choosing which neuron to trace.)\n",
    "\n",
    "So, this notebook will be the equivalent of one third of a paper handout from the 2019-10-04 meeing, which was comparing 3 candidates, each page showing the above 5 images, 3 times a page, once for each of the 3 candidates.\n",
    "\n",
    "## Features\n",
    "Here's just a list of ideas. \n",
    "\n",
    "- 3D volume viewer:\n",
    "The sky's the limit for JupyterLab widgets but on Colab, UI options are much more constrained. Currently, what 3D volume viewer to use is an open question, one that would be trivial on a generic JupyterLab deploy.\n",
    "\n",
    "- Synced interactive: show both SWCs in dual side-by-side volume displays, or as layers of one single volume displayer. So moving one view makes the same camera movement happen in second displayer.\n",
    "\n",
    "- Hopefully eventually this page can score the quality of a generated SWC scored against a gold standard manual reconstruction SWC. But that is a completely open question. Evaluation in the challenge was initially done using human expert judges. There is no scoring software.\n",
    "\n",
    "\n",
    "\n"
   ]
  },
  {
   "cell_type": "code",
   "execution_count": null,
   "metadata": {
    "colab": {},
    "colab_type": "code",
    "id": "kDsVnYFtIKpa"
   },
   "outputs": [],
   "source": [
    "# Install BlueBrain's NeuroM toolkit for the analysis and processing of neuron morphologies. \n",
    "# https://github.com/BlueBrain/NeuroM\n",
    "!pip install neurom"
   ]
  },
  {
   "cell_type": "code",
   "execution_count": null,
   "metadata": {
    "colab": {},
    "colab_type": "code",
    "id": "Mxg46aTaWPSA"
   },
   "outputs": [],
   "source": [
    "!morph_stats /content/granuleCell63XStart/granule-.auto.swc"
   ]
  },
  {
   "cell_type": "code",
   "execution_count": null,
   "metadata": {
    "colab": {},
    "colab_type": "code",
    "id": "KOGNchP-WcxP"
   },
   "outputs": [],
   "source": []
  }
 ],
 "metadata": {
  "colab": {
   "collapsed_sections": [],
   "name": "skeleton_juxtaposer.ipynb",
   "provenance": []
  },
  "kernelspec": {
   "display_name": "Python 3",
   "language": "python",
   "name": "python3"
  },
  "language_info": {
   "codemirror_mode": {
    "name": "ipython",
    "version": 3
   },
   "file_extension": ".py",
   "mimetype": "text/x-python",
   "name": "python",
   "nbconvert_exporter": "python",
   "pygments_lexer": "ipython3",
   "version": "3.6.7"
  }
 },
 "nbformat": 4,
 "nbformat_minor": 2
}
